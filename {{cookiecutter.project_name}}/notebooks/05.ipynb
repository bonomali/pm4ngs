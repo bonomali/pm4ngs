{
 "cells": [
  {
   "cell_type": "code",
   "execution_count": null,
   "metadata": {
    "pycharm": {
     "name": "#%%\n"
    }
   },
   "outputs": [],
   "source": [
    "%run ../config/init.py\n",
    "import itertools"
   ]
  },
  {
   "cell_type": "markdown",
   "metadata": {},
   "source": [
    "### Creating results folders\n",
    "{% if cookiecutter.ngs_data_type == 'RNA-Seq' %}"
   ]
  },
  {
   "cell_type": "code",
   "execution_count": null,
   "outputs": [],
   "source": [
    "data_dir = os.path.join(RESULTS, DATASET, 'quantification')\n",
    "result_dir = os.path.join(RESULTS, DATASET, 'dga')\n",
    "if not os.path.exists(result_dir):\n",
    "    os.mkdir(result_dir) \n",
    "os.chdir(result_dir)\n",
    "matrix_file = os.path.join(data_dir, 'ExonReads.tsv')\n",
    "factors_file = os.path.join(DATA, DATASET, 'factors.txt')\n",
    "factors = pandas.read_csv(factors_file, sep='\\t')\n",
    "factors"
   ],
   "metadata": {
    "collapsed": false,
    "pycharm": {
     "name": "#%%\n"
    }
   }
  },
  {
   "cell_type": "markdown",
   "metadata": {},
   "source": [
    "### Creating comparisons\n",
    "In this cell, an array with all combinations of **conditions** is created.  \n",
    " \n",
    "If you just want to explore a set of comparisons remove this cell and add the **comparisons** list manually. \n",
    "```\n",
    "comparisons = [\n",
    "    ['cond1', 'cond2'],\n",
    "    ['cond2', 'cond3']\n",
    "]\n",
    "``` "
   ]
  },
  {
   "cell_type": "code",
   "execution_count": null,
   "metadata": {
    "pycharm": {
     "name": "#%%\n"
    }
   },
   "outputs": [],
   "source": [
    "comparisons = []\n",
    "for s in itertools.combinations(factors['condition'].unique(), 2):\n",
    "    comparisons.append(list(s)) \n",
    "comparisons"
   ]
  },
  {
   "cell_type": "markdown",
   "metadata": {
    "pycharm": {
     "name": "#%% md\n"
    }
   },
   "source": [
    "### Executing Deseq2 and EdgeR workflows"
   ]
  },
  {
   "cell_type": "code",
   "execution_count": null,
   "metadata": {
    "pycharm": {
     "name": "#%%\n"
    }
   },
   "outputs": [],
   "source": [
    "log_suffix = 'dga.log'\n",
    "\n",
    "cmd_deseq2_header = '{0} {1}/R/deseq2-2conditions.cwl --factor {2} --matrix {3} --gene_column Gene_Chr_Start --sample_column SampleID --fc {4} --fdr {5}'.format(\n",
    "        CWLRUNNER, CWLTOOLS, factors_file, matrix_file, fc, fdr)\n",
    "cmd_edgeR_header = '{0} {1}/R/edgeR-2conditions.cwl --factor {2} --matrix {3} --gene_column Gene_Chr_Start --sample_column SampleID --fc {4} --fdr {5} --gene_length_column ExonLength '.format(\n",
    "        CWLRUNNER, CWLTOOLS, factors_file, matrix_file, fc, fdr)\n",
    "\n",
    "with open('commands_dga', \"w\") as fin:\n",
    "    for c in comparisons:\n",
    "        if not os.path.exists('condition_{0}_vs_{1}_deseq2.csv'.format(c[0], c[1])):\n",
    "            fin.write('{0} --condition1 {1} --condition2 {2} > {1}_vs_{2}_deseq2_{3} 2>&1\\n'.format(cmd_deseq2_header, c[0], c[1], log_suffix))\n",
    "        if not os.path.exists('condition_{0}_vs_{1}_edgeR.csv'.format(c[0], c[1])):\n",
    "            fin.write('{0} --condition1 {1} --condition2 {2} > {1}_vs_{2}_edgeR_{3} 2>&1\\n'.format(cmd_edgeR_header, c[0], c[1], log_suffix))\n",
    "\n",
    "{% if cookiecutter.use_gnu_parallel == 'y' %}\n",
    "!cat commands_dga | parallel -j {{ cookiecutter.max_number_threads }}\n",
    "{% else %}\n",
    "!sh commands_dga    \n",
    "{% endif %}\n",
    "check_errors_from_logs(result_dir, log_suffix)"
   ]
  },
  {
   "cell_type": "markdown",
   "metadata": {},
   "source": [
    "### Creates TPM and reads matrices for genes"
   ]
  },
  {
   "cell_type": "code",
   "execution_count": null,
   "metadata": {
    "pycharm": {
     "name": "#%%\n"
    }
   },
   "outputs": [],
   "source": [
    "log_suffix_union = 'union.log'\n",
    "    \n",
    "cmd_volcano_header = '{0} {1}/R/volcano_plot.cwl --fdr {2} --fc {3} '.format(CWLRUNNER, CWLTOOLS, fdr, fc)\n",
    "\n",
    "cmd_heatmap_header = '{0} {1}/R/dga_heatmaps.cwl --factor {2} --matrix {3} --gene_column Gene_Chr_Start --sample_column SampleID --fdr {4} --fc {5}'.format(\n",
    "        CWLRUNNER, CWLTOOLS, factors_file, matrix_file, fdr, fc)\n",
    "    \n",
    "with open('commands_union_plots', \"w\") as fin:\n",
    "    for c in comparisons:\n",
    "        deseq2_df = pandas.read_csv('condition_{0}_vs_{1}_deseq2.csv'.format(c[0], c[1]))\n",
    "        edgeR_df = pandas.read_csv('condition_{0}_vs_{1}_edgeR.csv'.format(c[0], c[1]))\n",
    "        df = edgeR_df.merge(deseq2_df, left_on='Gene_Chr_Start', right_on='Gene_Id')\n",
    "        df = df.drop(['Gene_Chr_Start'], axis=1)\n",
    "        union_df = df[(df['FDR'] <= fdr) & (abs(df['logFC']) >= fc) & (df['padj'] <= fdr) & (abs(df['log2FoldChange']) >= fc)]\n",
    "        unifying_data = []\n",
    "        for i, r in df.iterrows():\n",
    "            if abs(r['logFC']) == r['logFC']:\n",
    "                logFC = min(float(r['logFC']), float(r['log2FoldChange']))\n",
    "            else:\n",
    "                logFC = max(float(r['logFC']), float(r['log2FoldChange']))\n",
    "            unifying_data.append({\n",
    "                'Gene_Id': r['Gene_Id'],\n",
    "                'FDR': max(float(r['FDR']), float(r['padj'])),\n",
    "                'logFC': logFC\n",
    "            })\n",
    "        unifying_data_df = pandas.DataFrame(unifying_data)\n",
    "        unifying_data_df = unifying_data_df[['Gene_Id', 'logFC', 'FDR']]\n",
    "        if len(unifying_data_df) > 0:\n",
    "            unifying_file = 'condition_{0}_vs_{1}_union.csv'.format(c[0], c[1])\n",
    "            unifying_data_df.to_csv(unifying_file, index=None)\n",
    "    \n",
    "            over_df = unifying_data_df[(unifying_data_df['FDR'] <= fdr)&(unifying_data_df['logFC'] >= fc)]\n",
    "            over_df.to_csv('condition_{0}_vs_{1}_union_over-expressed.csv'.format(c[0], c[1]), index=None)\n",
    "            under_df = unifying_data_df[(unifying_data_df['FDR'] <= fdr)&(unifying_data_df['logFC'] <= -1.0 * fc)]\n",
    "            under_df.to_csv('condition_{0}_vs_{1}_union_under-expressed.csv'.format(c[0], c[1]), index=None)\n",
    "    \n",
    "            print(\"Genes with FDR <= %.2f and logFC >= %.2f: %d\" % (fdr, fc, len(over_df)))\n",
    "            print(\"Genes with FDR <= %.2f and logFC <= -%.2f: %d\" % (fdr, fc, len(under_df)))\n",
    "    \n",
    "            fin.write('{0} --data {1} --out condition_{2}_vs_{3}_union_volcano.pdf > {2}_vs_{3}_volcano_{4} 2>&1\\n'.format(\n",
    "                cmd_volcano_header, unifying_file,c[0], c[1], log_suffix_union))\n",
    "            fin.write('{0} --dga_data {1} --out_expression {2} --out_correlation {3} --out_pca {4} > {5}_vs_{6}_heatmap_{7} 2>&1\\n'.format(\n",
    "                cmd_heatmap_header, unifying_file,\n",
    "                'condition_{0}_vs_{1}_union_expression_heatmap.pdf'.format(c[0], c[1]),\n",
    "                'condition_{0}_vs_{1}_union_correlation_heatmap.pdf'.format(c[0], c[1]),\n",
    "                'condition_{0}_vs_{1}_union_pca.pdf'.format(c[0], c[1]),\n",
    "                     c[0], c[1], log_suffix_union))\n",
    "    \n",
    "!cat commands_union_plots | parallel -j {{ cookiecutter.max_number_threads }}\n",
    "\n",
    "check_errors_from_logs(result_dir, log_suffix_union)\n",
    "{% elif cookiecutter.ngs_data_type == 'ChIP-exo' %} "
   ]
  },
  {
   "cell_type": "code",
   "execution_count": null,
   "outputs": [],
   "source": [
    "factors = pandas.read_csv(os.path.join(DATA, DATASET, 'factors.txt'), sep='\\t')\n",
    "\n",
    "data_dir = os.path.join(RESULTS, DATASET, 'peak_calling')\n",
    "os.chdir(data_dir)\n",
    "files = [ f for ds, dr, files in os.walk('./') for f in files if f.endswith('.bed')]\n",
    "\n",
    "result_dir = os.path.join(RESULTS, DATASET, 'motif')\n",
    "if not os.path.exists(result_dir):\n",
    "    os.mkdir(result_dir) \n",
    "os.chdir(result_dir)"
   ],
   "metadata": {
    "collapsed": false,
    "pycharm": {
     "name": "#%%\n"
    }
   }
  },
  {
   "cell_type": "markdown",
   "source": [
    "### DNA binding motif finding\n",
    "For using MEME you should download the databases from http://meme-suite.org/doc/download.html\n",
    "\n",
    "The Morif database (file `motif_databases.X.X.tgz`) should be uncompressed into the `data/meme` folder resulting \n",
    "in a structure like this:\n",
    "\n",
    "```\n",
    "    data\n",
    "    ├── meme\n",
    "    │   └── motif_databases\n",
    "    │       ├── ARABD\n",
    "    │       ├── CIS-BP\n",
    "    │       ├── CISBP-RNA\n",
    "    │       ├── ECOLI\n",
    "    │       ├── EUKARYOTE\n",
    "    │       ├── FLY\n",
    "    │       ├── HUMAN\n",
    "    │       ├── JASPAR\n",
    "    │       ├── MALARIA\n",
    "    │       ├── MIRBASE\n",
    "    │       ├── MOUSE\n",
    "    │       ├── PROKARYOTE\n",
    "    │       ├── PROTEIN\n",
    "    │       ├── RNA\n",
    "    │       ├── TFBSshape\n",
    "    │       ├── WORM\n",
    "    │       └── YEAST\n",
    "    └── PRJNA238004\n",
    "```\n",
    "\n",
    "In this example we will be using E. Coli databases: \n",
    "    * SwissRegulon_e_coli.meme\n",
    "    * dpinteract.meme\n",
    "\n",
    "Therefore, the variable `MEME_DB_CATEGORY = 'ECOLI'` should be edited accordingly. "
   ],
   "metadata": {
    "collapsed": false
   }
  },
  {
   "cell_type": "code",
   "execution_count": null,
   "outputs": [],
   "source": [
    "MEME_DB_CATEGORY = 'ECOLI'\n",
    "\n",
    "log_suffix = 'meme.log'\n",
    "meme_db_path = os.path.join(DATA,'meme', 'motif_databases', MEME_DB_CATEGORY)\n",
    "meme_db = [\n",
    "    'SwissRegulon_e_coli.meme',\n",
    "    'dpinteract.meme'\n",
    "]\n",
    "for d in meme_db:\n",
    "    os.chdir(result_dir)\n",
    "    print('MEME DB: ' + d)\n",
    "\n",
    "    db = os.path.join(meme_db_path, d)\n",
    "    cmd_header = '{0} {1}/ChIP-Seq/meme-motif.cwl --nmotifs 10 --memedb {2} --genome {3} --bed'.format(\n",
    "        CWLRUNNER, CWLWORKFLOWS, db, GENOME_FASTA)\n",
    "    \n",
    "    if not os.path.exists(d.replace('.meme','')):\n",
    "        os.mkdir(d.replace('.meme',''))\n",
    "    os.chdir(d.replace('.meme',''))    \n",
    "    \n",
    "    with open('commands_meme', \"w\") as fin:\n",
    "        for f in files:\n",
    "            fin.write('{0} {1} > {2}_{3} 2>&1 \\n'.format(cmd_header, os.path.join(data_dir, f), \n",
    "                      f.replace('.bed',''), log_suffix))\n",
    "        \n",
    "    !cat commands_meme | parallel -j {{ cookiecutter.max_number_threads }}\n",
    "\n",
    "    check_errors_from_logs(os.path.join(result_dir,d.replace('.meme','')), log_suffix)   \n",
    "{% elif cookiecutter.ngs_data_type == 'ChIP-Seq' %} "
   ],
   "metadata": {
    "collapsed": false,
    "pycharm": {
     "name": "#%%\n"
    }
   }
  },
  {
   "cell_type": "code",
   "execution_count": null,
   "outputs": [],
   "source": [
    "bam_dir = os.path.join(RESULTS, DATASET, 'alignments')\n",
    "bed_dir = os.path.join(RESULTS, DATASET, 'peak-calling')\n",
    "result_dir = os.path.join(RESULTS, DATASET, 'diffbind')\n",
    "if not os.path.exists(result_dir):\n",
    "    os.mkdir(result_dir) \n",
    "os.chdir(result_dir)\n",
    "factors = pandas.read_csv(os.path.join(DATA, DATASET, 'factors.txt'), sep='\\t')\n",
    "factors"
   ],
   "metadata": {
    "collapsed": false,
    "pycharm": {
     "name": "#%%\n"
    }
   }
  },
  {
   "cell_type": "markdown",
   "source": [
    "### Generating comparison array"
   ],
   "metadata": {
    "collapsed": false,
    "pycharm": {
     "name": "#%% md\n"
    }
   }
  },
  {
   "cell_type": "code",
   "execution_count": null,
   "outputs": [],
   "source": [
    "comparisons = []\n",
    "for s in itertools.combinations(factors['condition'].unique(), 2):\n",
    "    comparisons.append(list(s))\n",
    "comparisons"
   ],
   "metadata": {
    "collapsed": false,
    "pycharm": {
     "name": "#%%\n"
    }
   }
  },
  {
   "cell_type": "markdown",
   "source": [
    "### Processing samples"
   ],
   "metadata": {
    "collapsed": false,
    "pycharm": {
     "name": "#%% md\n"
    }
   }
  },
  {
   "cell_type": "code",
   "execution_count": null,
   "outputs": [],
   "source": [
    "cmd_header = '{0} {1}/R/DiffBind.cwl --bamDir {2} --bedDir {3} --factor samples.tsv'.format(\n",
    "    CWLRUNNER, CWLTOOLS, bam_dir, bed_dir)\n",
    "for c in comparisons:\n",
    "    minMembers = min(len(factors[factors['condition'] == c[0]]), len(factors[factors['condition'] == c[1]]))\n",
    "    if minMembers >= 2:\n",
    "        os.chdir(result_dir)\n",
    "        comp = '{0}_vs_{1}'.format(c[0], c[1])\n",
    "        if not os.path.exists(comp):\n",
    "            os.mkdir(comp)\n",
    "        os.chdir(comp)\n",
    "        df = factors[(factors['condition'] == c[0]) | (factors['condition'] == c[1])]\n",
    "        df = df.rename(index=str, columns={'id': 'id', 'condition': 'Condition', 'replicate':'Replicate'})\n",
    "        df.to_csv('samples.tsv', index=None, sep='\\t')\n",
    "        with open('commands', \"w\") as fin:\n",
    "            fin.write('{0} --minMembers {1} > diffbind.log 2>&1\\n'.format(cmd_header, minMembers))\n",
    "        print('Processing {0} vs {1}'.format(c[0], c[1]))\n",
    "        !cat commands | parallel -j 16\n",
    "        check_errors_from_logs(os.path.join(result_dir, comp), '.log')\n",
    "      \n",
    "{% endif %}\n"
   ],
   "metadata": {
    "collapsed": false,
    "pycharm": {
     "name": "#%%\n"
    }
   }
  }
 ],
 "metadata": {
  "kernelspec": {
   "display_name": "Python 3",
   "language": "python",
   "name": "python3"
  },
  "language_info": {
   "codemirror_mode": {
    "name": "ipython",
    "version": 3
   },
   "file_extension": ".py",
   "mimetype": "text/x-python",
   "name": "python",
   "nbconvert_exporter": "python",
   "pygments_lexer": "ipython3",
   "version": "3.7.3"
  },
  "pycharm": {
   "stem_cell": {
    "cell_type": "raw",
    "source": [],
    "metadata": {
     "collapsed": false
    }
   }
  }
 },
 "nbformat": 4,
 "nbformat_minor": 1
}