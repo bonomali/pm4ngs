{
 "cells": [
  {
   "cell_type": "code",
   "execution_count": null,
   "metadata": {},
   "outputs": [],
   "source": [
    "%run ../config/init.py"
   ]
  },
  {
   "cell_type": "markdown",
   "metadata": {},
   "source": [
    "## Setting workdir to `data/{{ cookiecutter.dataset_name }}`"
   ]
  },
  {
   "cell_type": "code",
   "execution_count": null,
   "metadata": {},
   "outputs": [],
   "source": [
    "data_dir = os.path.join(DATA, DATASET)\n",
    "if not os.path.exists(data_dir):\n",
    "    os.mkdir(data_dir)\n",
    "os.chdir(data_dir)"
   ]
  },
  {
   "cell_type": "markdown",
   "metadata": {},
   "source": [
    "## Loading sample file\n",
    "A **factors.txt** file should be in the `data/{{ cookiecutter.dataset_name }}`\n",
    "\n",
    "The \"factors.txt\" file should have at least the following columns:  \n",
    "`| SampleID | condition | replicate |`  \n",
    "Columns:\n",
    "\n",
    "Example:\n",
    "\n",
    "| SampleID | condition | replicate |\n",
    "| --- | --- | --- |\n",
    "| SRR8308716 | Treatment | 1 |\n",
    "| SRR8308717 | Treatment | 2 |\n",
    "| SRR8308720 | Normal | 1 |\n",
    "| SRR8308721 | Normal | 2 |\n"
   ]
  },
  {
   "cell_type": "code",
   "execution_count": null,
   "metadata": {},
   "outputs": [],
   "source": [
    "factors_file = os.path.join(DATA, DATASET, 'factors.txt')\n",
    "factors = pandas.read_csv(factors_file, sep='\\t')\n",
    "factors\n",
    "\n",
    "{% if cookiecutter.is_data_in_SRA == 'y' %}"
   ]
  },
  {
   "cell_type": "markdown",
   "metadata": {},
   "source": [
    "## Retrieving data from the BioProject ID using fastq-dump"
   ]
  },
  {
   "cell_type": "code",
   "execution_count": null,
   "metadata": {
    "pycharm": {
     "name": "#%%\n"
    },
    "scrolled": false
   },
   "outputs": [],
   "source": [
    "log_suffix = 'download.log'\n",
    "{% if cookiecutter.sequencing_technology is defined and cookiecutter.sequencing_technology == 'paired-end' %}\n",
    "cmd_header = '{0} {1}/sra/download_quality_control.cwl --threads {2} --split-files'.format(\n",
    "        CWLRUNNER, CWLWORKFLOWS, 4)\n",
    "\n",
    "{% if cookiecutter.create_demo == 'y' %}\n",
    "cmd_header = '{0} -X {{ cookiecutter.number_spots}} '.format(cmd_header)\n",
    "{% endif %}\n",
    "\n",
    "with open('commands', \"w\") as fin:\n",
    "    for i,r in factors.iterrows():\n",
    "        if not os.path.exists(r['SampleID'] + '_1.fastq.gz') or not os.path.exists(r['SampleID'] + '_2.fastq.gz'):\n",
    "            fin.write('{0} --accession {1} > {1}_{2} 2>&1\\n'.format(cmd_header, r['SampleID'], log_suffix))\n",
    "{% else %}\n",
    "cmd_header = '{0} {1}/sra/download_quality_control.cwl --threads {2}'.format(\n",
    "        CWLRUNNER, CWLWORKFLOWS, 4)\n",
    "\n",
    "{% if cookiecutter.create_demo is defined and cookiecutter.create_demo == 'y' %}\n",
    "cmd_header = '{0} -X {{ cookiecutter.number_spots}} '.format(cmd_header)\n",
    "{% endif %}\n",
    "\n",
    "with open('commands', \"w\") as fin:\n",
    "    for i,r in factors.iterrows():\n",
    "        if not os.path.exists(r['SampleID'] + '.fastq.gz'):\n",
    "            fin.write('{0} --accession {1} > {1}_{2} 2>&1\\n'.format(cmd_header, r['SampleID'], log_suffix))\n",
    "{% endif %}\n",
    "{% if cookiecutter.use_gnu_parallel == 'y' %}\n",
    "!cat commands | parallel -j 4\n",
    "{% else %}\n",
    "!sh commands    \n",
    "{% endif %}\n",
    "check_errors_from_logs(data_dir, log_suffix)\n",
    "{% else %}"
   ]
  },
  {
   "cell_type": "markdown",
   "metadata": {},
   "source": [
    "## Pre-processing data"
   ]
  },
  {
   "cell_type": "code",
   "execution_count": null,
   "metadata": {
    "pycharm": {
     "is_executing": false,
     "name": "#%%\n"
    }
   },
   "outputs": [],
   "source": [
    "log_suffix = 'fastqc.log'\n",
    "{% if cookiecutter.sequencing_technology is defined and cookiecutter.sequencing_technology == 'paired-end' %}\n",
    "cmd_header = '{0} {1}/fastqc/fastqc.cwl --threads {2} '.format(\n",
    "        CWLRUNNER, CWLTOOLS, 4)\n",
    "with open('commands', \"w\") as fin:\n",
    "    for i,r in factors.iterrows():\n",
    "        if not os.path.exists(r['SampleID'] + '_1_fastqc.html') or not os.path.exists(r['SampleID'] + '_1_fastqc.zip') or\\\n",
    "            not os.path.exists(r['SampleID'] + '_2_fastqc.html') or not os.path.exists(r['SampleID'] + '_2_fastqc.zip'):\n",
    "            fin.write('{0} --fastq {1}_1.fastq.gz --fastq {1}_2.fastq.gz > {1}_{2} 2>&1\\n'.format(cmd_header, r['SampleID'], log_suffix))\n",
    "{% else %}\n",
    "cmd_header = '{0} {1}/fastqc/fastqc.cwl --threads {2} --fastq '.format(\n",
    "        CWLRUNNER, CWLTOOLS, 4)\n",
    "with open('commands', \"w\") as fin:\n",
    "    for i,r in factors.iterrows():\n",
    "        if not os.path.exists(r['SampleID'] + '_fastqc.html') or not os.path.exists(r['SampleID'] + '_fastqc.zip'):\n",
    "            fin.write('{0} {1}.fastq.gz > {1}_{2} 2>&1\\n'.format(cmd_header, r['SampleID'], log_suffix))\n",
    "{% endif %}\n",
    "{% if cookiecutter.use_gnu_parallel == 'y' %}\n",
    "!cat commands | parallel -j 4\n",
    "{% else %}\n",
    "!sh commands    \n",
    "{% endif %}\n",
    "check_errors_from_logs(data_dir, log_suffix)\n",
    "{% endif %}\n"
   ]
  }
 ],
 "metadata": {
  "kernelspec": {
   "display_name": "Python 3",
   "language": "python",
   "name": "python3"
  },
  "language_info": {
   "codemirror_mode": {
    "name": "ipython",
    "version": 3
   },
   "file_extension": ".py",
   "mimetype": "text/x-python",
   "name": "python",
   "nbconvert_exporter": "python",
   "pygments_lexer": "ipython3",
   "version": "3.7.3"
  },
  "pycharm": {
   "stem_cell": {
    "cell_type": "raw",
    "source": [],
    "metadata": {
     "collapsed": false
    }
   }
  }
 },
 "nbformat": 4,
 "nbformat_minor": 2
}