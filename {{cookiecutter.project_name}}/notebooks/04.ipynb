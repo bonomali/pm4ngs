{
 "cells": [
  {
   "cell_type": "code",
   "execution_count": null,
   "metadata": {},
   "outputs": [],
   "source": [
    "%run ../config/init.py"
   ]
  },
  {
   "cell_type": "markdown",
   "metadata": {},
   "source": [
    "### Creating results folders\n",
    "{% if cookiecutter.ngs_data_type == 'RNA-Seq' %}"
   ]
  },
  {
   "cell_type": "code",
   "execution_count": null,
   "outputs": [],
   "source": [
    "data_dir = os.path.join(RESULTS, DATASET, 'alignments')\n",
    "result_dir = os.path.join(RESULTS, DATASET, 'quantification')\n",
    "if not os.path.exists(result_dir):\n",
    "    os.mkdir(result_dir) \n",
    "os.chdir(result_dir)\n",
    "{% if cookiecutter.sequencing_technology == 'paired-end' %}\n",
    "samples = [ f.replace('_sorted.bam', '') for ds,dr,fs in os.walk(data_dir) for f in fs if f.endswith('.bam')]\n",
    "{% else %}\n",
    "samples = [ f.replace('_sorted.bam', '') for ds,dr,fs in os.walk(data_dir) for f in fs if f.endswith('.bam')]\n",
    "{% endif %}"
   ],
   "metadata": {
    "collapsed": false,
    "pycharm": {
     "name": "#%%\n"
    }
   }
  },
  {
   "cell_type": "markdown",
   "metadata": {
    "pycharm": {
     "name": "#%% md\n"
    }
   },
   "source": [
    "### Processing samples"
   ]
  },
  {
   "cell_type": "code",
   "execution_count": null,
   "metadata": {
    "pycharm": {
     "name": "#%%\n"
    }
   },
   "outputs": [],
   "source": [
    "{% if cookiecutter.sequencing_technology == 'paired-end' %}\n",
    "cmd_header = '{0} {1}/RNA-Seq/rnaseq-tpmcalculator.cwl -p --gtf {2} -q 255 -r {3} --genome_name {4} --sorted_bam'.format(\n",
    "        CWLRUNNER, CWLWORKFLOWS, GENOME_GTF, GENOME_BED, GENOME_NAME)\n",
    "\n",
    "{% else %}\n",
    "cmd_header = '{0} {1}/RNA-Seq/rnaseq-tpmcalculator.cwl --gtf {2} -q 255 -r {3} --genome_name {4} --sorted_bam'.format(\n",
    "        CWLRUNNER, CWLWORKFLOWS, GENOME_GTF, GENOME_BED, GENOME_NAME)\n",
    "{% endif %}\n",
    "log_suffix = 'quantification.log'\n",
    "with open('commands', \"w\") as fin:\n",
    "    for s in samples:\n",
    "        r = os.path.join(data_dir, s + '_sorted.bam')\n",
    "        if not os.path.exists(s + '_sorted_genes.out.gz'):\n",
    "            fin.write('{0} {1} > {2}_{3} 2>&1\\n'.format(cmd_header, r, s, log_suffix))\n",
    "\n",
    "{% if cookiecutter.use_gnu_parallel == 'y' %}\n",
    "!cat commands | parallel -j {{ cookiecutter.max_number_threads }}\n",
    "{% else %}\n",
    "!sh commands    \n",
    "{% endif %}\n",
    "check_errors_from_logs(result_dir, log_suffix)"
   ]
  },
  {
   "cell_type": "markdown",
   "metadata": {},
   "source": [
    "### Creates TPM and reads matrices for genes"
   ]
  },
  {
   "cell_type": "code",
   "execution_count": null,
   "metadata": {
    "pycharm": {
     "name": "#%%\n"
    }
   },
   "outputs": [],
   "source": [
    "data = {}\n",
    "columns = ['ExonTPM', 'ExonReads']\n",
    "output_suffix = \"_sorted_genes.out\"\n",
    "files = [ f for ds, df, files in os.walk('./') for f in files if output_suffix in f]\n",
    "for column in columns:\n",
    "    print(column)\n",
    "    data[column] = pandas.DataFrame()\n",
    "    for f in files:\n",
    "        # Get sample name removing the suffix and check if the output is compressed\n",
    "        if f.endswith('.gz'):\n",
    "            output_suffix_real = output_suffix + '.gz'\n",
    "        else:\n",
    "            output_suffix_real = output_suffix\n",
    "        s = f.replace(output_suffix_real, '')\n",
    "        df = pandas.read_csv(f, sep='\\t')\n",
    "        df = df[['Gene_Id', 'Chr', 'Start', 'End', 'ExonLength', column]]\n",
    "        df = df.rename(index=str, columns={column: s})\n",
    "        if data[column].empty:\n",
    "            data[column] = df\n",
    "        else:\n",
    "            data[column] = data[column].merge(df, on=['Gene_Id', 'Chr', 'Start', 'End', 'ExonLength'], how='outer')\n",
    "    print('Data columns: ' + str(len(data[column].columns)))\n",
    "    print('Data rows: ' + str(len(data[column])))\n",
    "    \n",
    "    # Printing TSV matrices    \n",
    "    data[column]['Gene_Chr_Start'] = data[column]['Gene_Id'] + '_' + data[column][\"Chr\"] + '_' + data[column][\"Start\"].map(str)\n",
    "    data[column] = data[column].drop(['Gene_Id'], axis=1)\n",
    "    cols = data[column].columns.tolist()\n",
    "    cols = cols[-1:] + cols[:-1]\n",
    "    data[column] = data[column][cols]\n",
    "    data[column].to_csv( column + '.tsv', sep='\\t', index=False, na_rep='0')"
   ]
  },
  {
   "cell_type": "markdown",
   "metadata": {},
   "source": [
    "### Plotting Exon TPM and read count per sample"
   ]
  },
  {
   "cell_type": "code",
   "execution_count": null,
   "metadata": {
    "pycharm": {
     "name": "#%%\n"
    }
   },
   "outputs": [],
   "source": [
    "columns = ['ExonTPM', 'ExonReads']\n",
    "output_suffix = \"_sorted_genes.out\"\n",
    "files = [ f for ds, df, files in os.walk('./') for f in files if output_suffix in f]\n",
    "files.sort()\n",
    "for column in columns:    \n",
    "    plt.figure(figsize=(10, 12)) \n",
    "    toPlot = []\n",
    "    for f in files:\n",
    "        if f.endswith('.gz'):\n",
    "            output_suffix_real = output_suffix + '.gz'\n",
    "        else:\n",
    "            output_suffix_real = output_suffix\n",
    "        s = f.replace(output_suffix_real, '')\n",
    "        if s in data[column]:\n",
    "            for r in data[column][s]:\n",
    "                toPlot.append([r, s])\n",
    "    d = pandas.DataFrame(toPlot, columns=[column, 'Sample'])\n",
    "    ax = sns.boxplot(y='Sample', x=column, data=d, orient=\"h\", palette=\"Set2\")\n",
    "{% elif cookiecutter.ngs_data_type == 'ChIP-Seq' %}"
   ]
  },
  {
   "cell_type": "code",
   "execution_count": null,
   "outputs": [],
   "source": [
    "data_dir = os.path.join(RESULTS, DATASET, 'alignments')\n",
    "result_dir = os.path.join(RESULTS, DATASET, 'peak-calling')\n",
    "if not os.path.exists(result_dir):\n",
    "    os.mkdir(result_dir) \n",
    "os.chdir(result_dir)\n",
    "samples = [ f.replace('_sorted.tagAlign.gz', '') for ds,dr,fs in os.walk(data_dir) for f in fs if f.endswith('_sorted.tagAlign.gz')]"
   ],
   "metadata": {
    "collapsed": false,
    "pycharm": {
     "name": "#%%\n"
    }
   }
  },
  {
   "cell_type": "markdown",
   "source": [
    "### Processing samples"
   ],
   "metadata": {
    "collapsed": false,
    "pycharm": {
     "name": "#%% md\n"
    }
   }
  },
  {
   "cell_type": "code",
   "execution_count": null,
   "outputs": [],
   "source": [],
   "metadata": {
    "collapsed": false,
    "pycharm": {
     "name": "#%%\n"
    }
   }
  },
  {
   "cell_type": "code",
   "execution_count": null,
   "outputs": [],
   "source": [
    "log_suffix = 'peak_calling.log'\n",
    "cmd_header = '{0} {1}/ChIP-Seq/peak-calling-MACS2.cwl --homer_genome {2}9 --genome_fasta {3} --genome_gtf {4} --macs_callpeaks_g {5} --macs_callpeaks_q {6}'.format(\n",
    "        CWLRUNNER, CWLWORKFLOWS, GENOME_MAPPABLE_SIZE, GENOME_FASTA, GENOME_GTF, \n",
    "        GENOME_MAPPABLE_SIZE, fdr)\n",
    "\n",
    "with open('commands_peak_calling', \"w\") as fin:\n",
    "    for s in factors['SampleID']:\n",
    "        t = os.path.join(data_dir, s + '_sorted.tagAlign.gz')\n",
    "        fin.write('{0} --tagAlign_gz {1} > {2}_{3} 2>&1\\n'.format(cmd_header, t, s, log_suffix))\n",
    "    for c in factors['condition'].unique():\n",
    "        f = os.path.join(data_dir, c + '_R0.tagAlign.gz')\n",
    "        if not os.path.exists(c + '_R0') and os.path.exists(f):            \n",
    "            fin.write('{0} --tagAlign_gz {1} > {2}_{3} 2>&1\\n'.format(cmd_header, f, c, log_suffix))\n",
    "\n",
    "!cat commands_peak_calling | parallel -j {{ cookiecutter.max_number_threads }}\n",
    "\n",
    "check_errors_from_logs(result_dir, log_suffix)"
   ],
   "metadata": {
    "collapsed": false,
    "pycharm": {
     "name": "#%%\n"
    }
   }
  },
  {
   "cell_type": "markdown",
   "source": [
    "###  Irreproducible Discovery Rate (IDR)    "
   ],
   "metadata": {
    "collapsed": false,
    "pycharm": {
     "name": "#%% md\n"
    }
   }
  },
  {
   "cell_type": "code",
   "execution_count": null,
   "outputs": [],
   "source": [
    "data_dir = os.path.join(RESULTS, DATASET, 'peak-calling')\n",
    "result_dir = os.path.join(RESULTS, DATASET, 'idr')\n",
    "if not os.path.exists(result_dir):\n",
    "    os.mkdir(result_dir) \n",
    "os.chdir(result_dir)   "
   ],
   "metadata": {
    "collapsed": false,
    "pycharm": {
     "name": "#%%\n"
    }
   }
  },
  {
   "cell_type": "markdown",
   "source": [
    "### Processing samples"
   ],
   "metadata": {
    "collapsed": false,
    "pycharm": {
     "name": "#%% md\n"
    }
   }
  },
  {
   "cell_type": "code",
   "execution_count": null,
   "outputs": [],
   "source": [
    "log_suffix = 'idr.log'\n",
    "cmd_header = '{0} {1}/ChIP-Seq/idr.cwl --input_file_type narrowPeak --soft_idr_threshold 0.05 --homer_genome {2} --genome_fasta {3} --genome_gtf {4} '.format(\n",
    "        CWLRUNNER, CWLWORKFLOWS, GENOME_NAME, GENOME_FASTA, GENOME_GTF,)\n",
    "\n",
    "with open('commands_idr', \"w\") as fin:\n",
    "    for c in factors['condition'].unique():\n",
    "        peak_list = os.path.join(data_dir, c + '_R0_peaks.narrowPeak')\n",
    "        if os.path.exists(peak_list):\n",
    "            peak_list = '--pooled_peak_list {0}'.format(peak_list)\n",
    "        else:\n",
    "            peak_list = ''\n",
    "        ids = factors[factors['condition'] == c]['SampleID']\n",
    "        s_option = ''\n",
    "        for s in ids:\n",
    "            s = os.path.join(data_dir, s + '_sorted_peaks.narrowPeak')\n",
    "            s_option = '{0} --samples {1}'.format(s_option, s)\n",
    "        fin.write('{0} {1} {2} --output_file {3}.narrowPeak > {3}_{4} 2>&1\\n'.format(cmd_header, s_option, peak_list, c, log_suffix))\n",
    "\n",
    "!cat commands_idr | parallel -j {{ cookiecutter.max_number_threads }}\n",
    "\n",
    "check_errors_from_logs(result_dir, log_suffix) \n",
    "\n",
    "{% elif cookiecutter.ngs_data_type == 'ChIP-exo' %} "
   ],
   "metadata": {
    "collapsed": false,
    "pycharm": {
     "name": "#%%\n"
    }
   }
  },
  {
   "cell_type": "code",
   "execution_count": null,
   "outputs": [],
   "source": [
    "factors = pandas.read_csv(os.path.join(DATA, DATASET, 'factors.txt'), sep='\\t')\n",
    "data_dir = os.path.join(RESULTS, DATASET, 'alignments')\n",
    "result_dir = os.path.join(RESULTS, DATASET, 'peak_calling')\n",
    "if not os.path.exists(result_dir):\n",
    "    os.mkdir(result_dir) \n",
    "os.chdir(result_dir)"
   ],
   "metadata": {
    "collapsed": false,
    "pycharm": {
     "name": "#%%\n"
    }
   }
  },
  {
   "cell_type": "markdown",
   "source": [
    "### Peak calling workflow\n",
    "{% if cookiecutter.sequencing_technology == 'paired-end' %}\n",
    "## No implemented yet. \n",
    "\n",
    "Please contact: veraalva@ncbi.nlm.nih.gov \n",
    "{% else %}    "
   ],
   "metadata": {
    "collapsed": false,
    "pycharm": {
     "name": "#%% md\n"
    }
   }
  },
  {
   "cell_type": "code",
   "execution_count": null,
   "outputs": [],
   "source": [
    "log_suffix = 'peak_calling.log'\n",
    "cmd_header = '{0} {1}/ChIP-exo/peak-caller-MACE-SE.cwl --genome_gtf {2} --chrom_size {3} --tss_size 1000 '.format(\n",
    "    CWLRUNNER, CWLWORKFLOWS,GENOME_GTF, GENOME_CHROMSIZES)\n",
    "\n",
    "with open('commands_peak_calling', \"w\") as fin:\n",
    "    for c in factors['condition'].unique():\n",
    "        rep = factors[factors['condition'] == c]['SampleID']\n",
    "        replicates = '{0} --output_basename {1}'.format(cmd_header, c)\n",
    "        for r in rep:\n",
    "            r = os.path.join(data_dir, r + '_sorted.bam')\n",
    "            replicates += ' --sorted_bam {0}'.format(r)\n",
    "        fin.write('{0} > {1}_{2} 2>&1\\n'.format(replicates, c, log_suffix))\n",
    " \n",
    "\n",
    "!cat commands_peak_calling | parallel -j {{ cookiecutter.max_number_threads }}\n",
    "\n",
    "check_errors_from_logs(result_dir, log_suffix)\n",
    "{% endif %}       \n",
    "{% endif %}"
   ],
   "metadata": {
    "collapsed": false,
    "pycharm": {
     "name": "#%%\n"
    }
   }
  }
 ],
 "metadata": {
  "kernelspec": {
   "display_name": "Python 3",
   "language": "python",
   "name": "python3"
  },
  "language_info": {
   "codemirror_mode": {
    "name": "ipython",
    "version": 3
   },
   "file_extension": ".py",
   "mimetype": "text/x-python",
   "name": "python",
   "nbconvert_exporter": "python",
   "pygments_lexer": "ipython3",
   "version": "3.7.3"
  },
  "pycharm": {
   "stem_cell": {
    "cell_type": "raw",
    "source": [],
    "metadata": {
     "collapsed": false
    }
   }
  }
 },
 "nbformat": 4,
 "nbformat_minor": 1
}