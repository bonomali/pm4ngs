{
 "cells": [
  {
   "cell_type": "code",
   "execution_count": null,
   "metadata": {},
   "outputs": [],
   "source": [
    "%run ../config/init.py"
   ]
  },
  {
   "cell_type": "markdown",
   "metadata": {},
   "source": [
    "### Creating results folders"
   ]
  },
  {
   "cell_type": "code",
   "execution_count": null,
   "metadata": {
    "pycharm": {
     "name": "#%%\n"
    }
   },
   "outputs": [],
   "source": [
    "data_dir = os.path.join(RESULTS, DATASET, 'alignments')\n",
    "{% if cookiecutter.ngs_data_type == 'RNA-Seq' %}\n",
    "result_dir = os.path.join(RESULTS, DATASET, 'quantification')\n",
    "if not os.path.exists(result_dir):\n",
    "    os.mkdir(result_dir) \n",
    "os.chdir(result_dir)\n",
    "{% if cookiecutter.sequencing_technology == 'paired-end' %}\n",
    "samples = [ f.replace('_sorted.bam', '') for ds,dr,fs in os.walk(data_dir) for f in fs if f.endswith('.bam')]\n",
    "{% else %}\n",
    "samples = [ f.replace('_sorted.bam', '') for ds,dr,fs in os.walk(data_dir) for f in fs if f.endswith('.bam')]\n",
    "{% endif %}"
   ]
  },
  {
   "cell_type": "markdown",
   "metadata": {
    "pycharm": {
     "name": "#%% md\n"
    }
   },
   "source": [
    "### Processing samples"
   ]
  },
  {
   "cell_type": "code",
   "execution_count": null,
   "metadata": {
    "pycharm": {
     "name": "#%%\n"
    }
   },
   "outputs": [],
   "source": [
    "{% if cookiecutter.sequencing_technology == 'paired-end' %}\n",
    "cmd_header = '{0} {1}/RNA-Seq/rnaseq-tpmcalculator.cwl -p --gtf {2} -q 255 -r {3} --genome_name {4} --sorted_bam'.format(\n",
    "        CWLRUNNER, CWLWORKFLOWS, GENOME_GTF, GENOME_BED, GENOME_NAME)\n",
    "\n",
    "{% else %}\n",
    "cmd_header = '{0} {1}/RNA-Seq/rnaseq-tpmcalculator.cwl --gtf {2} -q 255 -r {3} --genome_name {4} --sorted_bam'.format(\n",
    "        CWLRUNNER, CWLWORKFLOWS, GENOME_GTF, GENOME_BED, GENOME_NAME)\n",
    "{% endif %}\n",
    "log_suffix = 'quantification.log'\n",
    "with open('commands', \"w\") as fin:\n",
    "    for s in samples:\n",
    "        r = os.path.join(data_dir, s + '_sorted.bam')\n",
    "        if not os.path.exists(s + '_sorted_genes.out.gz'):\n",
    "            fin.write('{0} {1} > {2}_{3} 2>&1\\n'.format(cmd_header, r, s, log_suffix))\n",
    "\n",
    "{% if cookiecutter.use_gnu_parallel == 'y' %}\n",
    "!cat commands | parallel -j {{ cookiecutter.max_number_threads }}\n",
    "{% else %}\n",
    "!sh commands    \n",
    "{% endif %}\n",
    "check_errors_from_logs(result_dir, log_suffix)"
   ]
  },
  {
   "cell_type": "markdown",
   "metadata": {},
   "source": [
    "### Creates TPM and reads matrices for genes"
   ]
  },
  {
   "cell_type": "code",
   "execution_count": null,
   "metadata": {
    "pycharm": {
     "name": "#%%\n"
    }
   },
   "outputs": [],
   "source": [
    "data = {}\n",
    "columns = ['ExonTPM', 'ExonReads']\n",
    "output_suffix = \"_sorted_genes.out\"\n",
    "files = [ f for ds, df, files in os.walk('./') for f in files if output_suffix in f]\n",
    "for column in columns:\n",
    "    print(column)\n",
    "    data[column] = pandas.DataFrame()\n",
    "    for f in files:\n",
    "        # Get sample name removing the suffix and check if the output is compressed\n",
    "        if f.endswith('.gz'):\n",
    "            output_suffix_real = output_suffix + '.gz'\n",
    "        else:\n",
    "            output_suffix_real = output_suffix\n",
    "        s = f.replace(output_suffix_real, '')\n",
    "        df = pandas.read_csv(f, sep='\\t')\n",
    "        df = df[['Gene_Id', 'Chr', 'Start', 'End', 'ExonLength', column]]\n",
    "        df = df.rename(index=str, columns={column: s})\n",
    "        if data[column].empty:\n",
    "            data[column] = df\n",
    "        else:\n",
    "            data[column] = data[column].merge(df, on=['Gene_Id', 'Chr', 'Start', 'End', 'ExonLength'], how='outer')\n",
    "    print('Data columns: ' + str(len(data[column].columns)))\n",
    "    print('Data rows: ' + str(len(data[column])))\n",
    "    \n",
    "    # Printing TSV matrices    \n",
    "    data[column]['Gene_Chr_Start'] = data[column]['Gene_Id'] + '_' + data[column][\"Chr\"] + '_' + data[column][\"Start\"].map(str)\n",
    "    data[column] = data[column].drop(['Gene_Id'], axis=1)\n",
    "    cols = data[column].columns.tolist()\n",
    "    cols = cols[-1:] + cols[:-1]\n",
    "    data[column] = data[column][cols]\n",
    "    data[column].to_csv( column + '.tsv', sep='\\t', index=False, na_rep='0')"
   ]
  },
  {
   "cell_type": "markdown",
   "metadata": {},
   "source": [
    "### Plotting Exon TPM and read count per sample"
   ]
  },
  {
   "cell_type": "code",
   "execution_count": null,
   "metadata": {
    "pycharm": {
     "name": "#%%\n"
    }
   },
   "outputs": [],
   "source": [
    "columns = ['ExonTPM', 'ExonReads']\n",
    "output_suffix = \"_sorted_genes.out\"\n",
    "files = [ f for ds, df, files in os.walk('./') for f in files if output_suffix in f]\n",
    "files.sort()\n",
    "for column in columns:    \n",
    "    plt.figure(figsize=(10, 12)) \n",
    "    toPlot = []\n",
    "    for f in files:\n",
    "        if f.endswith('.gz'):\n",
    "            output_suffix_real = output_suffix + '.gz'\n",
    "        else:\n",
    "            output_suffix_real = output_suffix\n",
    "        s = f.replace(output_suffix_real, '')\n",
    "        if s in data[column]:\n",
    "            for r in data[column][s]:\n",
    "                toPlot.append([r, s])\n",
    "    d = pandas.DataFrame(toPlot, columns=[column, 'Sample'])\n",
    "    ax = sns.boxplot(y='Sample', x=column, data=d, orient=\"h\", palette=\"Set2\")\n",
    "{% endif %}"
   ]
  }
 ],
 "metadata": {
  "kernelspec": {
   "display_name": "Python 3",
   "language": "python",
   "name": "python3"
  },
  "language_info": {
   "codemirror_mode": {
    "name": "ipython",
    "version": 3
   },
   "file_extension": ".py",
   "mimetype": "text/x-python",
   "name": "python",
   "nbconvert_exporter": "python",
   "pygments_lexer": "ipython3",
   "version": "3.7.3"
  },
  "pycharm": {
   "stem_cell": {
    "cell_type": "raw",
    "metadata": {
     "collapsed": false
    },
    "source": []
   }
  }
 },
 "nbformat": 4,
 "nbformat_minor": 1
}
