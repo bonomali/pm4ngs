{
 "cells": [
  {
   "cell_type": "code",
   "execution_count": null,
   "metadata": {},
   "outputs": [],
   "source": [
    "%run ../config/init.py"
   ]
  },
  {
   "cell_type": "markdown",
   "metadata": {},
   "source": [
    "### Creating results folders"
   ]
  },
  {
   "cell_type": "code",
   "execution_count": null,
   "metadata": {},
   "outputs": [],
   "source": [
    "data_dir = os.path.join(RESULTS, DATASET, 'trimmomatic')\n",
    "result_dir = os.path.join(RESULTS, DATASET, 'alignments')\n",
    "if not os.path.exists(result_dir):\n",
    "    os.mkdir(result_dir) \n",
    "os.chdir(result_dir)\n",
    "{% if cookiecutter.sequencing_technology == 'paired-end' %}\n",
    "samples = [ f.replace('_1.fastq.gz', '') for ds,dr,fs in os.walk(data_dir) for f in fs if f.endswith('_1.fastq.gz')]\n",
    "{% else %}\n",
    "samples = [ f.replace('.fastq.gz', '') for ds,dr,fs in os.walk(data_dir) for f in fs if f.endswith('.fastq.gz')]\n",
    "{% endif %}"
   ]
  },
  {
   "cell_type": "markdown",
   "metadata": {},
   "source": [
    "### Processing samples\n",
    "{% if cookiecutter.ngs_data_type == 'RNA-Seq' %}"
   ]
  },
  {
   "cell_type": "code",
   "execution_count": null,
   "metadata": {
    "pycharm": {
     "name": "#%%\n"
    }
   },
   "outputs": [],
   "source": [
    "log_suffix = 'alignment.log'\n",
    "\n",
    "{% if cookiecutter.sequencing_technology == 'paired-end' %}\n",
    "cmd_header = '{0} {1}/Alignments/star-alignment-PE.cwl --threads {{ cookiecutter.max_number_threads }} --genomeDir {2}  '.format(\n",
    "        CWLRUNNER, CWLWORKFLOWS, ALIGNER_INDEX)\n",
    "{% else %}\n",
    "cmd_header = '{0} {1}/Alignments/star-alignment-SE.cwl --threads {{ cookiecutter.max_number_threads }} --genomeDir {2}  '.format(\n",
    "        CWLRUNNER, CWLWORKFLOWS, ALIGNER_INDEX)\n",
    "{% endif %}\n",
    "\n",
    "with open('commands', \"w\") as fin:\n",
    "    for s in samples:\n",
    "{% if cookiecutter.sequencing_technology == 'paired-end' %}\n",
    "        r1 = os.path.join(data_dir, s + '_1.fastq.gz')\n",
    "        r2 = os.path.join(data_dir, s + '_2.fastq.gz')\n",
    "        if not os.path.exists(s + '_sorted.bam'):\n",
    "            fin.write('{0} --reads_1 {1} --reads_2 {2} > {3}_{4} 2>&1\\n'.format(cmd_header, r1, r2, s, log_suffix))\n",
    "{% else %}\n",
    "        r = os.path.join(data_dir, s + '.fastq.gz')\n",
    "        if not os.path.exists(s + '_sorted.bam'):\n",
    "            fin.write('{0} --reads_1 {1} > {2}_{3} 2>&1\\n'.format(cmd_header, r, s, log_suffix))\n",
    "{% endif %}\n",
    "{% if cookiecutter.use_gnu_parallel == 'y' %}\n",
    "!cat commands | parallel -j 1\n",
    "{% else %}\n",
    "!sh commands    \n",
    "{% endif %}\n",
    "check_errors_from_logs(result_dir, log_suffix)\n",
    "{% elif cookiecutter.ngs_data_type == 'ChIP-Seq' %}"
   ]
  },
  {
   "cell_type": "code",
   "execution_count": null,
   "metadata": {
    "pycharm": {
     "name": "#%%\n"
    }
   },
   "outputs": [],
   "source": [
    "\n",
    "READSQUALITY = 30\n",
    "SUBSAMPLE_NREADS = 200000\n",
    "\n",
    "log_suffix = 'alignment.log'\n",
    "cmd_header = '{0} {1}/ChIP-Seq/chip-seq-alignment.cwl --threads {{ cookiecutter.max_number_threads }} --genome_index {2} --genome_prefix {3} --readsquality {4} --subsample_nreads {5} '.format(\n",
    "        CWLRUNNER, CWLWORKFLOWS, ALIGNER_INDEX, os.path.basename(GENOME_FASTA), READSQUALITY, SUBSAMPLE_NREADS)\n",
    "\n",
    "with open('commands', \"w\") as fin:\n",
    "    for s in samples:\n",
    "{% if cookiecutter.sequencing_technology == 'paired-end' %}\n",
    "        r1 = os.path.join(data_dir, s + '_1.fastq.gz')\n",
    "        r2 = os.path.join(data_dir, s + '_2.fastq.gz')\n",
    "        if not os.path.exists(s + '_sorted.bam'):\n",
    "            fin.write('{0} --reads {1} --reads {2} > {3}_{4} 2>&1\\n'.format(cmd_header, r1, r2, s, log_suffix))\n",
    "{% else %}\n",
    "        r = os.path.join(data_dir, s + '.fastq.gz')\n",
    "        if not os.path.exists(s + '_sorted.bam'):\n",
    "            fin.write('{0} --reads {1} > {2}_{3} 2>&1\\n'.format(cmd_header, r, s, log_suffix))\n",
    "{% endif %}\n",
    "{% if cookiecutter.use_gnu_parallel == 'y' %}\n",
    "!cat commands | parallel -j 1\n",
    "{% else %}\n",
    "!sh commands    \n",
    "{% endif %}\n",
    "check_errors_from_logs(result_dir, log_suffix)"
   ]
  },
  {
   "cell_type": "markdown",
   "metadata": {},
   "source": [
    "## Generating BAM files per condition\n",
    "\n",
    "Here we merge all BAM files generated for each condition in one single BAM file named [condition]_sorted.bam\n",
    "\n",
    "These files will be used with the output of IDR for the differential binding analysis"
   ]
  },
  {
   "cell_type": "code",
   "execution_count": null,
   "metadata": {
    "pycharm": {
     "name": "#%%\n"
    }
   },
   "outputs": [],
   "source": [
    "factors = pandas.read_csv(os.path.join(DATA, DATASET, 'factors.txt'), sep='\\t')\n",
    "log_suffix = 'merge.log'\n",
    "cmd_header = '{0} {1}/samtools/samtools-merge.cwl '.format(CWLRUNNER, CWLTOOLS)\n",
    "\n",
    "with open('commands_bam_merge', \"w\") as fin:\n",
    "    for c in factors['condition'].unique():\n",
    "        if not os.path.exists(c + '_sorted.bam'):\n",
    "            ids = factors[factors['condition'] == c]['SampleID']\n",
    "            if len(ids) > 1:\n",
    "                cmd_options = '--out_bam {0}'.format(c + '_sorted.bam')\n",
    "                for s in ids:\n",
    "                    s = os.path.join(result_dir, s + '_sorted.bam')\n",
    "                    cmd_options = '{0} --in_bam {1}'.format(cmd_options, s)\n",
    "                fin.write('{0} {1} > {2}_{3} 2>&1\\n'.format(cmd_header, cmd_options, c , log_suffix)) \n",
    "{% if cookiecutter.use_gnu_parallel == 'y' %}\n",
    "!cat commands_bam_merge | parallel -j 16\n",
    "{% else %}\n",
    "!sh commands_bam_merge    \n",
    "{% endif %}\n",
    "check_errors_from_logs(result_dir, log_suffix)"
   ]
  },
  {
   "cell_type": "markdown",
   "metadata": {},
   "source": [
    "### Generating pooled tagAlign from replicates"
   ]
  },
  {
   "cell_type": "code",
   "execution_count": null,
   "metadata": {
    "pycharm": {
     "name": "#%%\n"
    }
   },
   "outputs": [],
   "source": [
    "log_suffix = 'R0.log'\n",
    "log_files = []\n",
    "with open('commands_pooled', \"w\") as fin:\n",
    "    for c in factors['condition'].unique():\n",
    "        ids = factors[factors['condition'] == c]['SampleID']\n",
    "        if len(ids) > 1:\n",
    "            cmd_header = 'zcat '\n",
    "            for s in ids:\n",
    "                s = os.path.join(result_dir, s + '_sorted.tagAlign.gz')\n",
    "                cmd_header = '{0} {1}'.format(cmd_header, s)\n",
    "            fin.write('{0} | gzip -n > {1}_R0.tagAlign.gz 2> {1}_{2}\\n'.format(cmd_header, c , log_suffix))  \n",
    "            log_files.append('{0}_{1}'.format(c , log_suffix))\n",
    "{% if cookiecutter.use_gnu_parallel == 'y' %}\n",
    "!cat commands_pooled | parallel -j 16\n",
    "{% else %}\n",
    "!sh commands    \n",
    "{% endif %}\n",
    "if log_files:\n",
    "    all_good = True\n",
    "    for l in log_files:\n",
    "        if os.stat(l).st_size != 0:\n",
    "            print('Error in file: ' + l)\n",
    "            all_good = False\n",
    "    if all_good:\n",
    "        print('Pooled tagAlign files created correctly')\n",
    "{% elif cookiecutter.ngs_data_type == 'ChIP-exo' %}"
   ]
  },
  {
   "cell_type": "code",
   "execution_count": null,
   "outputs": [],
   "source": [
    "\n",
    "READSQUALITY = 30\n",
    "SUBSAMPLE_NREADS = 200000\n",
    "\n",
    "log_suffix = 'alignment.log'\n",
    "cmd_header = '{0} {1}/ChIP-Seq/chip-seq-alignment.cwl --threads {{ cookiecutter.max_number_threads }} --genome_index {2} --genome_prefix {3} --readsquality {4} --subsample_nreads {5} '.format(\n",
    "        CWLRUNNER, CWLWORKFLOWS, ALIGNER_INDEX, os.path.basename(GENOME_FASTA), READSQUALITY, SUBSAMPLE_NREADS)\n",
    "\n",
    "with open('commands', \"w\") as fin:\n",
    "    for s in samples:\n",
    "{% if cookiecutter.sequencing_technology == 'paired-end' %}\n",
    "        r1 = os.path.join(data_dir, s + '_1.fastq.gz')\n",
    "        r2 = os.path.join(data_dir, s + '_2.fastq.gz')\n",
    "        if not os.path.exists(s + '_sorted.bam'):\n",
    "            fin.write('{0} --reads {1} --reads {2} > {3}_{4} 2>&1\\n'.format(cmd_header, r1, r2, s, log_suffix))\n",
    "{% else %}\n",
    "        r = os.path.join(data_dir, s + '.fastq.gz')\n",
    "        if not os.path.exists(s + '_sorted.bam'):\n",
    "            fin.write('{0} --reads {1} > {2}_{3} 2>&1\\n'.format(cmd_header, r, s, log_suffix))\n",
    "{% endif %}\n",
    "{% if cookiecutter.use_gnu_parallel == 'y' %}\n",
    "!cat commands | parallel -j 1\n",
    "{% else %}\n",
    "!sh commands    \n",
    "{% endif %}\n",
    "check_errors_from_logs(result_dir, log_suffix)"
   ],
   "metadata": {
    "collapsed": false,
    "pycharm": {
     "name": "#%%\n"
    }
   }
  },
  {
   "cell_type": "markdown",
   "source": [
    "## Generating BAM files per condition\n",
    "\n",
    "Here we merge all BAM files generated for each condition in one single BAM file named [condition]_sorted.bam\n",
    "\n",
    "These files will be used with the output of IDR for the differential binding analysis"
   ],
   "metadata": {
    "collapsed": false
   }
  },
  {
   "cell_type": "code",
   "execution_count": null,
   "outputs": [],
   "source": [
    "factors = pandas.read_csv(os.path.join(DATA, DATASET, 'factors.txt'), sep='\\t')\n",
    "log_suffix = 'merge.log'\n",
    "cmd_header = '{0} {1}/samtools/samtools-merge.cwl '.format(CWLRUNNER, CWLTOOLS)\n",
    "\n",
    "with open('commands_bam_merge', \"w\") as fin:\n",
    "    for c in factors['condition'].unique():\n",
    "        if not os.path.exists(c + '_sorted.bam'):\n",
    "            ids = factors[factors['condition'] == c]['SampleID']\n",
    "            if len(ids) > 1:\n",
    "                cmd_options = '--out_bam {0}'.format(c + '_sorted.bam')\n",
    "                for s in ids:\n",
    "                    s = os.path.join(result_dir, s + '_sorted.bam')\n",
    "                    cmd_options = '{0} --in_bam {1}'.format(cmd_options, s)\n",
    "                fin.write('{0} {1} > {2}_{3} 2>&1\\n'.format(cmd_header, cmd_options, c , log_suffix)) \n",
    "{% if cookiecutter.use_gnu_parallel == 'y' %}\n",
    "!cat commands_bam_merge | parallel -j 16\n",
    "{% else %}\n",
    "!sh commands_bam_merge    \n",
    "{% endif %}\n",
    "check_errors_from_logs(result_dir, log_suffix)"
   ],
   "metadata": {
    "collapsed": false,
    "pycharm": {
     "name": "#%%\n"
    }
   }
  },
  {
   "cell_type": "markdown",
   "source": [
    "### Generating pooled tagAlign from replicates"
   ],
   "metadata": {
    "collapsed": false
   }
  },
  {
   "cell_type": "code",
   "execution_count": null,
   "outputs": [],
   "source": [
    "log_suffix = 'R0.log'\n",
    "log_files = []\n",
    "with open('commands_pooled', \"w\") as fin:\n",
    "    for c in factors['condition'].unique():\n",
    "        ids = factors[factors['condition'] == c]['SampleID']\n",
    "        if len(ids) > 1:\n",
    "            cmd_header = 'zcat '\n",
    "            for s in ids:\n",
    "                s = os.path.join(result_dir, s + '_sorted.tagAlign.gz')\n",
    "                cmd_header = '{0} {1}'.format(cmd_header, s)\n",
    "            fin.write('{0} | gzip -n > {1}_R0.tagAlign.gz 2> {1}_{2}\\n'.format(cmd_header, c , log_suffix))  \n",
    "            log_files.append('{0}_{1}'.format(c , log_suffix))\n",
    "{% if cookiecutter.use_gnu_parallel == 'y' %}\n",
    "!cat commands_pooled | parallel -j 16\n",
    "{% else %}\n",
    "!sh commands    \n",
    "{% endif %}\n",
    "if log_files:\n",
    "    all_good = True\n",
    "    for l in log_files:\n",
    "        if os.stat(l).st_size != 0:\n",
    "            print('Error in file: ' + l)\n",
    "            all_good = False\n",
    "    if all_good:\n",
    "        print('Pooled tagAlign files created correctly')\n",
    "{% endif %}\n"
   ],
   "metadata": {
    "collapsed": false,
    "pycharm": {
     "name": "#%%\n"
    }
   }
  }
 ],
 "metadata": {
  "kernelspec": {
   "display_name": "Python 3",
   "language": "python",
   "name": "python3"
  },
  "language_info": {
   "codemirror_mode": {
    "name": "ipython",
    "version": 3
   },
   "file_extension": ".py",
   "mimetype": "text/x-python",
   "name": "python",
   "nbconvert_exporter": "python",
   "pygments_lexer": "ipython3",
   "version": "3.7.3"
  },
  "pycharm": {
   "stem_cell": {
    "cell_type": "raw",
    "source": [],
    "metadata": {
     "collapsed": false
    }
   }
  }
 },
 "nbformat": 4,
 "nbformat_minor": 2
}