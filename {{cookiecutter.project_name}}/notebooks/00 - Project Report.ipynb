{
 "cells": [
  {
   "cell_type": "markdown",
   "metadata": {},
   "source": [
    "# Project Report\n",
    " \n",
    "__Project Name__: {{ cookiecutter.project_name }}  \n",
    "__Dataset Name__: {{ cookiecutter.dataset_name }}  \n",
    "__Author__: {{ cookiecutter.author_name }}  \n",
    "__Email__: {{ cookiecutter.email }}  \n",
    "__Dataset__: {{ cookiecutter.dataset_name }}  \n",
    "__Created Date__: {% now 'local', '%d/%m/%Y' %}  \n",
    "\n",
    "## Outline\n",
    "\n",
    "{% if cookiecutter.ngs_data_type == 'RNA-Seq' %}\n",
    "This is a Differential Gene Expression Analysis workflow for RNASeq data\n",
    "{%- elif cookiecutter.ngs_data_type == 'ChIP-Seq' -%}\n",
    "This is a Differential Binding Analysis workflow for ChIP-Seq data\n",
    "{%- elif cookiecutter.ngs_data_type == 'ChIP-exo' -%}\n",
    "This is a Differential Binding Analysis workflow for ChIP-exo data\n",
    "{% endif %}\n",
    "\n",
    "Our workflow is based on a set of Jupyter Notebooks and [CWL workflows](https://gitlab.com/r78v10a07/cwl-workflow/). \n",
    "The workflows excuted the analysis using the following tools: \n",
    "\n",
    " * FastQC, for pre-processing quality control\n",
    " * Trimmomatic, for reads trimming\n",
    "{% if cookiecutter.ngs_data_type == 'RNA-Seq' %}\n",
    " * STAR, for reads alignment\n",
    " * RSeQC, for alignment quality control\n",
    " * TPMCalculator, for mRNA abundance quantification\n",
    " * Deseq2, for DGA\n",
    " * EdgeR, for DGA\n",
    "{%- elif cookiecutter.ngs_data_type == 'ChIP-Seq' -%}\n",
    " * BWA, for reads alignment\n",
    " * Phantompeakqualtools, for ChIP-Seq quality control\n",
    " * MACS2, for peak calling\n",
    " * IDR, for Irreproducible Discovery Rate (IDR) peak classification\n",
    " * Homer, for peak annotation\n",
    " * Diffbind for Differential binding analysis \n",
    "{%- elif cookiecutter.ngs_data_type == 'ChIP-exo' -%}\n",
    " * BWA, for reads alignment\n",
    " * Phantompeakqualtools, for ChIP-Seq quality control\n",
    " * MACE, for peak calling\n",
    " * MEME, for motif finding\n",
    "{% endif %} \n",
    "\n",
    "\n",
    "### Workflow  steps\n",
    "\n",
    " 1. [Pre-processing QC](#1.-Pre-processing-QC)\n",
    " 2. [Trimming](#2.-Trimming)\n",
    " 3. [Alignment](#3.-Alignment)\n",
    "     - [Alignment Quality Control](#3.1-Alignment-QC)\n",
    "{% if cookiecutter.ngs_data_type == 'RNA-Seq' %} \n",
    " 4. [Quantification](#4.-Quantification)\n",
    " 5. [Differential Gene Expression Analysis](#5.-Differential-Gene-Expression-Analysis)\n",
    " 6. [GO enrichment](#6.-GO-enrichment)\n",
    "{%- elif cookiecutter.ngs_data_type == 'ChIP-Seq' -%}\n",
    " 4. [Peak Calling](#4.-Peak-Calling)\n",
    "     - [Irreproducible Discovery Rate](#4.1.-Irreproducible-Discovery-Rate) \n",
    " 5. [Differential binding Detection](#5.-Differential-binding-Detection)\n",
    "{%- elif cookiecutter.ngs_data_type == 'ChIP-exo' -%}\n",
    " 4. [Peak Calling](#4.-Peak-Calling)\n",
    " 5. [DNA Motif finding](#5.-DNA-Motif-finding)\n",
    "{% endif %}\n",
    " \n",
    "### Requirements\n",
    "\n",
    " 1. Python 3.6+\n",
    "    - numpy\n",
    "    - scipy\n",
    "    - pandas\n",
    "    - seaborn\n",
    "    - matplotlib\n",
    "    - jupyter\n",
    "    - cwltool\n",
    "    - jupyterngsplugin\n",
    "{% if cookiecutter.ngs_data_type == 'RNA-Seq' %}\n",
    "    - networkx\n",
    "    - goenrichment\n",
    "{% endif %}\n",
    " 2. CWL Tools definition files: [cwl-workflow](https://gitlab.com/r78v10a07/cwl-workflow/)       "
   ]
  },
  {
   "cell_type": "code",
   "execution_count": null,
   "metadata": {
    "pycharm": {
     "name": "#%%\n"
    }
   },
   "outputs": [],
   "source": [
    "%run ../config/init.py\n",
    "\n",
    "from jupyterngsplugin.markdown.fastqc import fastqc_table, fastqc_trimmomatic_table\n",
    "from jupyterngsplugin.markdown.alignment import alignment_table\n",
    "from jupyterngsplugin.markdown.alignment import reads_distribution_plot\n",
    "\n",
    "{% if cookiecutter.ngs_data_type == 'RNA-Seq' %}\n",
    "from jupyterngsplugin.markdown.rnaseq.quantification import tpmcalculator_distribution_plot\n",
    "from jupyterngsplugin.markdown.rnaseq.dga import dga_table, dga_gene_list_union\n",
    "from jupyterngsplugin.markdown.rnaseq.go import go_plots_table, go_html_table\n",
    "from jupyterngsplugin.markdown.rseqc import rseqc_table\n",
    "from jupyterngsplugin.markdown.rseqc import rseqc_plot_table\n",
    "{%- elif cookiecutter.ngs_data_type == 'ChIP-Seq' -%}\n",
    "from jupyterngsplugin.markdown.phantompeakqualtools import qc_table\n",
    "from jupyterngsplugin.markdown.chipseq import peak_calling_table_with_qc\n",
    "from jupyterngsplugin.markdown.chipseq import idr_table\n",
    "from jupyterngsplugin.markdown.chipseq import diffbind_table\n",
    "{%- elif cookiecutter.ngs_data_type == 'ChIP-exo' -%}\n",
    "from jupyterngsplugin.markdown.phantompeakqualtools import qc_table\n",
    "from jupyterngsplugin.markdown.chipexo import peak_calling_table_with_qc\n",
    "from jupyterngsplugin.markdown.chipexo import meme_motif_table\n",
    "{% endif %}\n",
    "from jupyterngsplugin.markdown.utils import hide_code_str\n",
    "from jupyterngsplugin.utils.notebook import save_2_html\n",
    "HTML(hide_code_str())"
   ]
  },
  {
   "cell_type": "markdown",
   "metadata": {},
   "source": [
    "## 1. Pre-processing QC"
   ]
  },
  {
   "cell_type": "code",
   "execution_count": null,
   "metadata": {
    "pycharm": {
     "name": "#%%\n"
    }
   },
   "outputs": [],
   "source": [
    "data_dir = os.path.join(DATA, DATASET)\n",
    "os.chdir(data_dir)\n",
    "samples = [ f.replace('.fastq.gz','') for ds,dr,fs in os.walk('./') for f in fs if f.endswith('.fastq.gz')]\n",
    "samples.sort()\n",
    "\n",
    "os.chdir(NOTEBOOKS)\n",
    "name = '01 - Pre-processing QC'\n",
    "str_msg = '<a href=\"' + name.replace(' ', '%20') + '.ipynb\" target=\"_blank\">' + name + '</a>\\n'\n",
    "display(Markdown(str_msg))\n",
    "\n",
    "str_msg = '#### FastQC report\\n'\n",
    "display(Markdown(str_msg))\n",
    "samples_data, str_msg =  fastqc_table(samples, \n",
    "                                      os.path.join(DATA, DATASET),\n",
    "                                      os.path.join(DATA, DATASET))\n",
    "display(Markdown(str_msg))\n",
    "del str_msg"
   ]
  },
  {
   "cell_type": "markdown",
   "metadata": {
    "pycharm": {
     "name": "#%% md\n"
    }
   },
   "source": [
    "## 2. Trimming"
   ]
  },
  {
   "cell_type": "code",
   "execution_count": null,
   "metadata": {
    "pycharm": {
     "name": "#%%\n"
    }
   },
   "outputs": [],
   "source": [
    "os.chdir(NOTEBOOKS)\n",
    "name = '02 - Samples trimming'\n",
    "str_msg = '<a href=\"' + name.replace(' ', '%20') + '.ipynb\" target=\"_blank\">' + name + '</a>\\n\\n'\n",
    "display(Markdown(str_msg))\n",
    "\n",
    "samples_data, str_msg =  fastqc_trimmomatic_table(samples_data, samples, \n",
    "                                      os.path.join(RESULTS, DATASET, 'trimmomatic'))\n",
    "\n",
    "display(Markdown(str_msg))\n",
    "del str_msg\n",
    "\n",
    "{% if cookiecutter.ngs_data_type == 'RNA-Seq' %}"
   ]
  },
  {
   "cell_type": "markdown",
   "source": [
    "## 3. Alignment"
   ],
   "metadata": {
    "collapsed": false
   }
  },
  {
   "cell_type": "code",
   "execution_count": null,
   "outputs": [],
   "source": [
    "os.chdir(NOTEBOOKS)\n",
    "name = '03 - Alignments'\n",
    "str_msg = '<a href=\"' + name.replace(' ', '%20') + '.ipynb\" target=\"_blank\">' + name + '</a>\\n'\n",
    "str_msg += '### Reference genome\\n**{{ cookiecutter.genome_name }}**\\n\\n'\n",
    "display(Markdown(str_msg))\n",
    "samples = [ f.replace('_sorted.bam', '') for ds,dr,fs in os.walk(os.path.join(RESULTS, DATASET, 'alignments')) for f in fs if f.endswith('_sorted.bam')]\n",
    "{% if cookiecutter.sequencing_technology == 'paired-end' %}\n",
    "method = 'STAR_paired'\n",
    "{% else %}\n",
    "method = 'STAR_single'\n",
    "{% endif %}\n",
    "samples_data, str_msg = alignment_table(samples_data, samples, \n",
    "                                        os.path.join(RESULTS, DATASET, 'alignments'), method)\n",
    "display(Markdown(str_msg))\n",
    "del str_msg\n",
    "\n",
    "reads_distribution_plot(samples_data, samples,(18,6), method)\n",
    "plt.show()\n",
    "plt.close()"
   ],
   "metadata": {
    "collapsed": false,
    "pycharm": {
     "name": "#%%\n"
    }
   }
  },
  {
   "cell_type": "markdown",
   "source": [
    "## 3.1. Alignment-QC"
   ],
   "metadata": {
    "collapsed": false
   }
  },
  {
   "cell_type": "code",
   "execution_count": null,
   "outputs": [],
   "source": [
    "os.chdir(NOTEBOOKS)\n",
    "str_msg = '### RSeQC BAM Stats\\n\\n'\n",
    "display(Markdown(str_msg))\n",
    "str_msg = rseqc_table(samples, os.path.join(RESULTS, DATASET, 'quantification'))\n",
    "display(Markdown(str_msg))\n",
    "del str_msg"
   ],
   "metadata": {
    "collapsed": false,
    "pycharm": {
     "name": "#%%\n"
    }
   }
  },
  {
   "cell_type": "code",
   "execution_count": null,
   "outputs": [],
   "source": [
    "img_size = 250\n",
    "str_msg = '### RSeQC PDF plots\\n\\n'\n",
    "display(Markdown(str_msg))\n",
    "\n",
    "str_msg = rseqc_plot_table(samples, os.path.join(RESULTS, DATASET, 'quantification'),\n",
    "                          img_size, img_size)\n",
    "display(Markdown(str_msg))\n",
    "del str_msg"
   ],
   "metadata": {
    "collapsed": false,
    "pycharm": {
     "name": "#%%\n"
    }
   }
  },
  {
   "cell_type": "markdown",
   "source": [
    "## 4. Quantification"
   ],
   "metadata": {
    "collapsed": false
   }
  },
  {
   "cell_type": "code",
   "execution_count": null,
   "metadata": {
    "pycharm": {
     "name": "#%%\n"
    }
   },
   "outputs": [],
   "source": [
    "os.chdir(NOTEBOOKS)\n",
    "name = '04 - Quantification'\n",
    "str_msg = '<a href=\"' + name.replace(' ', '%20') + '.ipynb\" target=\"_blank\">' + name + '</a>\\n\\n'\n",
    "display(Markdown(str_msg))\n",
    "del str_msg\n",
    "\n",
    "display(Markdown(\"### Exon TPM and reads distribution per sample\"))\n",
    "output_suffix = \"_sorted_genes.out\"\n",
    "columns = ['ExonTPM', 'ExonReads']\n",
    "for c in columns:\n",
    "    tpmcalculator_distribution_plot(c, \n",
    "                                os.path.join(RESULTS, DATASET, 'quantification'), \n",
    "                                output_suffix, (10,12))\n",
    "plt.show()\n",
    "plt.close()"
   ]
  },
  {
   "cell_type": "markdown",
   "metadata": {
    "pycharm": {
     "name": "#%% md\n"
    }
   },
   "source": [
    "## 5. Differential Gene Expression Analysis"
   ]
  },
  {
   "cell_type": "code",
   "execution_count": null,
   "metadata": {
    "pycharm": {
     "name": "#%%\n"
    }
   },
   "outputs": [],
   "source": [
    "os.chdir(NOTEBOOKS)\n",
    "tools = {\n",
    "    'deseq2':'Deseq2',\n",
    "    'edgeR': 'EdgeR',\n",
    "    'union': 'Union'\n",
    "}\n",
    "\n",
    "t = next(iter(tools))\n",
    "result_dir = os.path.join(RESULTS, DATASET, 'dga')\n",
    "conditions = [ f.replace('condition_','').replace('_' + t +'.csv','')  for d,ds,files in os.walk(result_dir) for f in files if '_' + t +'.csv' in f ]\n",
    "conditions.sort()\n",
    "\n",
    "img_size = 350\n",
    "str_msg = '### Plots\\n\\n'\n",
    "display(Markdown(str_msg))\n",
    "str_msg = dga_table(conditions, tools, result_dir, img_size, img_size)\n",
    "display(Markdown(str_msg))\n",
    "del str_msg\n",
    "\n",
    "str_msg = '### Cutoff:\\n\\n'\n",
    "str_msg += \"logFC: {:.3f}\".format(fc) + '\\n\\n'\n",
    "str_msg += \"FDR {:.3e}\".format(fdr) + '\\n\\n'\n",
    "display(Markdown(str_msg))\n",
    "\n",
    "str_msg = dga_gene_list_union(conditions, result_dir, '{{ cookiecutter.organism}}')\n",
    "        \n",
    "display(Markdown(str_msg))\n",
    "        \n",
    "del str_msg"
   ]
  },
  {
   "cell_type": "markdown",
   "metadata": {
    "pycharm": {
     "name": "#%% md\n"
    }
   },
   "source": [
    "## 6. GO enrichment"
   ]
  },
  {
   "cell_type": "code",
   "execution_count": null,
   "metadata": {
    "pycharm": {
     "name": "#%%\n"
    }
   },
   "outputs": [],
   "source": [
    "os.chdir(NOTEBOOKS)\n",
    "result_dir = os.path.join(RESULTS, DATASET, 'go')\n",
    "img_size = 350\n",
    "str_msg = go_plots_table(conditions, result_dir, img_size, img_size)    \n",
    "display(Markdown(str_msg))\n",
    "\n",
    "str_msg = go_html_table(conditions, result_dir)\n",
    "display(Markdown(str_msg))\n",
    "del str_msg\n",
    "{%- elif cookiecutter.ngs_data_type == 'ChIP-Seq' -%}"
   ]
  },
  {
   "cell_type": "markdown",
   "source": [
    "## 3. Alignment"
   ],
   "metadata": {
    "collapsed": false
   }
  },
  {
   "cell_type": "code",
   "execution_count": null,
   "outputs": [],
   "source": [
    "os.chdir(NOTEBOOKS)\n",
    "name = '03 - Alignments'\n",
    "str_msg = '<a href=\"' + name.replace(' ', '%20') + '.ipynb\" target=\"_blank\">' + name + '</a>\\n'\n",
    "str_msg += '### Reference genome\\n**{{ cookiecutter.genome_name }}**\\n\\n'\n",
    "display(Markdown(str_msg))\n",
    "factors = pandas.read_csv(os.path.join(DATA, DATASET, 'factors.txt'), sep='\\t')\n",
    "samples = factors['SampleID']\n",
    "{% if cookiecutter.sequencing_technology == 'paired-end' %}\n",
    "method = 'BWA_paired'\n",
    "{% else %}\n",
    "method = 'BWA_single'\n",
    "{% endif %}\n",
    "samples_data, str_msg =  alignment_table(samples_data, samples, os.path.join(RESULTS, DATASET, 'alignments'), method) \n",
    "display(Markdown(str_msg))\n",
    "del str_msg"
   ],
   "metadata": {
    "collapsed": false,
    "pycharm": {
     "name": "#%%\n"
    }
   }
  },
  {
   "cell_type": "markdown",
   "source": [
    "## 3.1. Alignment-QC"
   ],
   "metadata": {
    "collapsed": false
   }
  },
  {
   "cell_type": "code",
   "execution_count": null,
   "outputs": [],
   "source": [
    "os.chdir(NOTEBOOKS)\n",
    "samples_data, str_msg =  alignment_table(samples_data, samples, os.path.join(RESULTS, DATASET, 'alignments'), method) \n",
    "display(Markdown(str_msg))\n",
    "del str_msg"
   ],
   "metadata": {
    "collapsed": false,
    "pycharm": {
     "name": "#%%\n"
    }
   }
  },
  {
   "cell_type": "markdown",
   "source": [
    "### Distribution of Reads"
   ],
   "metadata": {
    "collapsed": false,
    "pycharm": {
     "name": "#%% md\n"
    }
   }
  },
  {
   "cell_type": "code",
   "execution_count": null,
   "outputs": [],
   "source": [
    "reads_distribution_plot(samples_data, samples,(18,6), method)\n",
    "plt.show()\n",
    "plt.close()"
   ],
   "metadata": {
    "collapsed": false,
    "pycharm": {
     "name": "#%%\n"
    }
   }
  },
  {
   "cell_type": "markdown",
   "source": [
    "## 3.2. Alignment QC\n",
    "\n",
    "### Phantompeakqualtools\n",
    "\n",
    "See https://github.com/kundajelab/phantompeakqualtools for more detailed info about the Phantompeakqualtools parameters"
   ],
   "metadata": {
    "collapsed": false,
    "pycharm": {
     "name": "#%% md\n"
    }
   }
  },
  {
   "cell_type": "code",
   "execution_count": null,
   "outputs": [],
   "source": [
    "str_msg =  qc_table(samples, os.path.join(RESULTS, DATASET, 'alignments'), 450, 450)\n",
    "display(Markdown(str_msg))\n",
    "del str_msg"
   ],
   "metadata": {
    "collapsed": false,
    "pycharm": {
     "name": "#%%\n"
    }
   }
  },
  {
   "cell_type": "markdown",
   "source": [
    "## 4. Peak Calling\n",
    "### Phantompeakqualtools savp PDF plots with MACS2 identified peaks for pooled samples"
   ],
   "metadata": {
    "collapsed": false
   }
  },
  {
   "cell_type": "code",
   "execution_count": null,
   "metadata": {
    "pycharm": {
     "name": "#%%\n"
    }
   },
   "outputs": [],
   "source": [
    "img_size = 250\n",
    "os.chdir(NOTEBOOKS)\n",
    "\n",
    "alignment_path = os.path.join(RESULTS, DATASET, 'alignments')\n",
    "peak_calling_path = os.path.join(RESULTS, DATASET, 'peak-calling')\n",
    "str_msg = peak_calling_table_with_qc(factors, alignment_path, peak_calling_path, img_size, img_size)\n",
    "display(Markdown(str_msg))\n",
    "del str_msg"
   ]
  },
  {
   "cell_type": "markdown",
   "metadata": {},
   "source": [
    "## 4.1. Irreproducible Discovery Rate"
   ]
  },
  {
   "cell_type": "code",
   "execution_count": null,
   "metadata": {
    "pycharm": {
     "name": "#%%\n"
    }
   },
   "outputs": [],
   "source": [
    "os.chdir(NOTEBOOKS)\n",
    "img_size = 450\n",
    "str_msg = idr_table(factors, os.path.join(RESULTS, DATASET, 'idr'), img_size, img_size)\n",
    "display(Markdown(str_msg))\n",
    "del str_msg"
   ]
  },
  {
   "cell_type": "markdown",
   "metadata": {},
   "source": [
    "## 5. Differential binding Detection"
   ]
  },
  {
   "cell_type": "code",
   "execution_count": null,
   "metadata": {
    "pycharm": {
     "name": "#%%\n"
    }
   },
   "outputs": [],
   "source": [
    "os.chdir(NOTEBOOKS)\n",
    "img_size = 450\n",
    "os.chdir(NOTEBOOKS)\n",
    "result_dir = os.path.join(RESULTS, DATASET, 'diffbind')\n",
    "for dirname, dirnames, filenames in os.walk(result_dir):\n",
    "    for subdirname in dirnames:\n",
    "        str_msg = '### Condition: ' + subdirname.replace('_', ' ') + '\\n\\n'\n",
    "        str_msg += diffbind_table(os.path.join(dirname, subdirname), img_size, img_size)\n",
    "        \n",
    "        display(Markdown(str_msg))\n",
    "del str_msg\n",
    "os.chdir(NOTEBOOKS)\n",
    "{%- elif cookiecutter.ngs_data_type == 'ChIP-exo' -%}"
   ]
  },
  {
   "cell_type": "markdown",
   "source": [
    "## 3. Alignment"
   ],
   "metadata": {
    "collapsed": false
   }
  },
  {
   "cell_type": "code",
   "execution_count": null,
   "outputs": [],
   "source": [
    "os.chdir(NOTEBOOKS)\n",
    "name = '03 - Alignments'\n",
    "str_msg = '<a href=\"' + name.replace(' ', '%20') + '.ipynb\" target=\"_blank\">' + name + '</a>\\n'\n",
    "str_msg += '### Reference genome\\n**{{ cookiecutter.genome_name }}**\\n\\n'\n",
    "display(Markdown(str_msg))\n",
    "factors = pandas.read_csv(os.path.join(DATA, DATASET, 'factors.txt'), sep='\\t')\n",
    "samples = factors['SampleID']\n",
    "{% if cookiecutter.sequencing_technology == 'paired-end' %}\n",
    "method = 'BWA_paired'\n",
    "{% else %}\n",
    "method = 'BWA_single'\n",
    "{% endif %}\n",
    "samples_data, str_msg =  alignment_table(samples_data, samples, os.path.join(RESULTS, DATASET, 'alignments'), method) \n",
    "display(Markdown(str_msg))\n",
    "del str_msg"
   ],
   "metadata": {
    "collapsed": false,
    "pycharm": {
     "name": "#%%\n"
    }
   }
  },
  {
   "cell_type": "markdown",
   "source": [
    "### Distribution of Reads"
   ],
   "metadata": {
    "collapsed": false,
    "pycharm": {
     "name": "#%% md\n"
    }
   }
  },
  {
   "cell_type": "code",
   "execution_count": null,
   "outputs": [],
   "source": [
    "reads_distribution_plot(samples_data, samples,(18,6), method)\n",
    "plt.show()\n",
    "plt.close()"
   ],
   "metadata": {
    "collapsed": false,
    "pycharm": {
     "name": "#%%\n"
    }
   }
  },
  {
   "cell_type": "markdown",
   "source": [
    "## 4. Alignment QC\n",
    "\n",
    "### Phantompeakqualtools\n",
    "\n",
    "See https://github.com/kundajelab/phantompeakqualtools for more detailed info about the Phantompeakqualtools parameters"
   ],
   "metadata": {
    "collapsed": false,
    "pycharm": {
     "name": "#%% md\n"
    }
   }
  },
  {
   "cell_type": "code",
   "execution_count": null,
   "outputs": [],
   "source": [
    "str_msg =  qc_table(samples, os.path.join(RESULTS, DATASET, 'alignments'), 450, 450)\n",
    "display(Markdown(str_msg))\n",
    "del str_msg"
   ],
   "metadata": {
    "collapsed": false,
    "pycharm": {
     "name": "#%%\n"
    }
   }
  },
  {
   "cell_type": "markdown",
   "source": [
    "## 4. Peak Calling\n",
    "\n",
    "### Phantompeakqualtools savp PDF plots with MACE identified peaks"
   ],
   "metadata": {
    "collapsed": false,
    "pycharm": {
     "name": "#%% md\n"
    }
   }
  },
  {
   "cell_type": "code",
   "execution_count": null,
   "outputs": [],
   "source": [
    "img_size = 250\n",
    "os.chdir(NOTEBOOKS)\n",
    "\n",
    "factors = pandas.read_csv(os.path.join(DATA, DATASET, 'factors.txt'), sep='\\t')\n",
    "str_msg = peak_calling_table_with_qc(factors, \n",
    "                                     os.path.join(RESULTS, DATASET, 'alignments'), \n",
    "                                     os.path.join(RESULTS, DATASET, 'peak_calling'), img_size, img_size)\n",
    "display(Markdown(str_msg))\n",
    "del str_msg"
   ],
   "metadata": {
    "collapsed": false,
    "pycharm": {
     "name": "#%%\n"
    }
   }
  },
  {
   "cell_type": "markdown",
   "metadata": {},
   "source": [
    "## 5. DNA Motif finding\n",
    "### Phantompeakqualtools savp PDF plots with MACE identified peaks"
   ]
  },
  {
   "cell_type": "code",
   "execution_count": null,
   "metadata": {
    "pycharm": {
     "name": "#%%\n"
    }
   },
   "outputs": [],
   "source": [
    "img_size = 250\n",
    "os.chdir(NOTEBOOKS)\n",
    "factors = pandas.read_csv(os.path.join(DATA, DATASET, 'factors.txt'), sep='\\t')\n",
    "str_msg = meme_motif_table(factors, \n",
    "                           os.path.join(RESULTS, DATASET, 'motif'), \n",
    "                           img_size, img_size)\n",
    "display(Markdown(str_msg))\n",
    "del str_msg\n",
    "{% endif %}"
   ]
  },
  {
   "cell_type": "code",
   "execution_count": null,
   "metadata": {
    "pycharm": {
     "name": "#%%\n"
    }
   },
   "outputs": [],
   "source": [
    "os.chdir(NOTEBOOKS)\n",
    "save_2_html(\"00 - Project Report.ipynb\")"
   ]
  }
 ],
 "metadata": {
  "kernelspec": {
   "display_name": "Python 3",
   "language": "python",
   "name": "python3"
  },
  "language_info": {
   "codemirror_mode": {
    "name": "ipython",
    "version": 3
   },
   "file_extension": ".py",
   "mimetype": "text/x-python",
   "name": "python",
   "nbconvert_exporter": "python",
   "pygments_lexer": "ipython3",
   "version": "3.7.3"
  },
  "pycharm": {
   "stem_cell": {
    "cell_type": "raw",
    "source": [],
    "metadata": {
     "collapsed": false
    }
   }
  }
 },
 "nbformat": 4,
 "nbformat_minor": 2
}