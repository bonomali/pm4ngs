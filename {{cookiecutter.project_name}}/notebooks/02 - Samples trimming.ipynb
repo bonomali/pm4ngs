{
 "cells": [
  {
   "cell_type": "code",
   "execution_count": null,
   "metadata": {},
   "outputs": [],
   "source": [
    "%run ../config/init.py"
   ]
  },
  {
   "cell_type": "markdown",
   "metadata": {},
   "source": [
    "## Setting workdir to `results/{{ cookiecutter.dataset_name }}/trimmomatic`"
   ]
  },
  {
   "cell_type": "code",
   "execution_count": null,
   "metadata": {},
   "outputs": [],
   "source": [
    "data_dir = os.path.join(DATA, DATASET)\n",
    "result_dir = os.path.join(RESULTS, DATASET, 'trimmomatic')\n",
    "if not os.path.exists(result_dir):\n",
    "    os.mkdir(result_dir) \n",
    "os.chdir(result_dir)\n",
    "{% if cookiecutter.sequencing_technology == 'paired-end' %}\n",
    "samples = [ f.replace('_1.fastq.gz', '') for ds,dr,fs in os.walk(data_dir) for f in fs if f.endswith('_1.fastq.gz')]\n",
    "{% else %}\n",
    "samples = [ f.replace('.fastq.gz', '') for ds,dr,fs in os.walk(data_dir) for f in fs if f.endswith('.fastq.gz')]\n",
    "{% endif %}"
   ]
  },
  {
   "cell_type": "markdown",
   "metadata": {},
   "source": [
    "## Trimming samples with Trimmomatic\n",
    "\n",
    "Trimmomatic options should be modified accordingly with the FastQC report taking into account:\n",
    "\n",
    "{% if cookiecutter.sequencing_technology == 'paired-end' %}\n",
    " * IlluminaClip: TruSeq3-PE.fa:2:30:10\n",
    "{% else %}\n",
    " * IlluminaClip: TruSeq3-SE.fa:2:30:10\n",
    "{% endif %}\n",
    " * Minlen: 25\n",
    " * Avgqual: 30\n",
    " * Leading: 30\n",
    " * Trailing: 30\n",
    " \n",
    "For more info about [Trimmomatic](http://www.usadellab.org/cms/?page=trimmomatic)\n",
    "\n",
    "### More options from the Trimmomatic CWL workflow\n",
    "```\n",
    "$ cwl-runner https://gitlab.com/r78v10a07/cwl-workflow/raw/master/tools/trimmomatic/trimmomatic.cwl\n",
    "/usr/bin/cwl-runner 1.0.20190228155703\n",
    "usage: https://gitlab.com/r78v10a07/cwl-workflow/raw/master/tools/trimmomatic/trimmomatic.cwl\n",
    "       --threads THREADS\n",
    "       --end_mode END_MODE\n",
    "       --reads1 READS1\n",
    "       --reads1_out READS1_OUT\n",
    "       [--reads2 READS2]\n",
    "       [--reads1_out2 READS1_OUT2]\n",
    "       [--reads2_out READS2_OUT]\n",
    "       [--reads2_out2 READS2_OUT2]\n",
    "       [--avgqual AVGQUAL] \n",
    "       [--crop CROP]       \n",
    "       [--headcrop HEADCROP]\n",
    "       [--illuminaClip ILLUMINACLIP]\n",
    "       [--leading LEADING]\n",
    "       [--maxinfo MAXINFO]\n",
    "       [--minlen MINLEN]\n",
    "       [--phred PHRED]\n",
    "       [--tophred33]\n",
    "       [--tophred64]\n",
    "       [--trailing TRAILING]\n",
    "```"
   ]
  },
  {
   "cell_type": "code",
   "execution_count": null,
   "metadata": {},
   "outputs": [],
   "source": [
    "# Edit these values accordingly with the FastQC report\n",
    "{% if cookiecutter.sequencing_technology == 'paired-end' %}\n",
    "ILLUMINACLIP = 'TruSeq3-PE.fa:2:30:10'\n",
    "{% else %}\n",
    "ILLUMINACLIP = 'TruSeq3-SE.fa:2:30:10'\n",
    "{% endif %}\n",
    "MINLEN = 25\n",
    "AVGQUAL = 30\n",
    "LEADING = 30\n",
    "TRAILING = 30\n",
    "\n",
    "cmd_header = '{0} {1}/trimmomatic/trimmomatic.cwl --threads 2 --phred=33 --illuminaClip={2} --minlen={3} --avgqual={4} --leading={5} --trailing={6} '.format(\n",
    "        CWLRUNNER, CWLTOOLS, ILLUMINACLIP, MINLEN, AVGQUAL, LEADING, TRAILING)\n",
    "\n",
    "log_suffix = 'trimming.log'\n",
    "{% if cookiecutter.sequencing_technology == 'paired-end' %}\n",
    "with open('commands_trimming', \"w\") as fin:\n",
    "    for s in samples:\n",
    "        r1 = os.path.join(DATA, DATASET, s + '_1.fastq.gz')\n",
    "        r2 = os.path.join(DATA, DATASET, s + '_2.fastq.gz')\n",
    "        if not os.path.exists(s + '_1.fastq.gz') or not os.path.exists('_2.fastq.gz'):\n",
    "            fin.write('{0} --end_mode=PE --reads1 {1} --reads2 {2} --reads1_out {3}_1.fastq.gz --reads1_out2 {3}_1_OU.fastq.gz --reads2_out {3}_2.fastq.gz --reads2_out2 {3}_2_OU.fastq.gz > {3}_{4} 2>&1\\n'.format(cmd_header, r1, r2, s, log_suffix))\n",
    "{% else %}\n",
    "with open('commands_trimming', \"w\") as fin:\n",
    "    for s in samples:\n",
    "        r = os.path.join(DATA, DATASET, s + '.fastq.gz')\n",
    "        if not os.path.exists(s + '.fastq.gz'):\n",
    "            fin.write('{0} --end_mode=SE --reads1 {1} --reads1_out {2}.fastq.gz > {2}_{3} 2>&1\\n'.format(cmd_header, r, s, log_suffix))\n",
    "\n",
    "{% endif %}\n",
    "{% if cookiecutter.use_gnu_parallel == 'y' %}\n",
    "!cat commands_trimming | parallel -j 8\n",
    "{% else %}\n",
    "!sh commands_trimming    \n",
    "{% endif %}\n",
    "check_errors_from_logs(result_dir, log_suffix)"
   ]
  },
  {
   "cell_type": "markdown",
   "metadata": {},
   "source": [
    "## Quality control of trimmed samples with FastQC"
   ]
  },
  {
   "cell_type": "code",
   "execution_count": null,
   "metadata": {
    "pycharm": {
     "name": "#%%\n"
    }
   },
   "outputs": [],
   "source": [
    "log_suffix = 'fastqc.log'\n",
    "{% if cookiecutter.sequencing_technology == 'paired-end' %}\n",
    "cmd_header = '{0} {1}/fastqc/fastqc.cwl --threads {2} '.format(\n",
    "        CWLRUNNER, CWLTOOLS, 4)\n",
    "with open('commands_fastqc', \"w\") as fin:\n",
    "    for s in samples:\n",
    "        if not os.path.exists(s + '_1_fastqc.html') or not os.path.exists(s + '_1_fastqc.zip') or\\\n",
    "            not os.path.exists(s + '_2_fastqc.html') or not os.path.exists(s + '_2_fastqc.zip'):\n",
    "            fin.write('{0} --fastq {1}_1.fastq.gz --fastq {1}_2.fastq.gz > {1}_{2} 2>&1\\n'.format(cmd_header, s, log_suffix))\n",
    "{% else %}\n",
    "cmd_header = '{0} {1}/fastqc/fastqc.cwl --threads {2} --fastq '.format(\n",
    "        CWLRUNNER, CWLTOOLS, 4)\n",
    "with open('commands_fastqc', \"w\") as fin:\n",
    "    for s in samples:\n",
    "        if not os.path.exists(s + '_fastqc.html') or not os.path.exists(s + '_fastqc.zip'):\n",
    "            fin.write('{0} {1}.fastq.gz > {1}_{2} 2>&1\\n'.format(cmd_header, s, log_suffix))\n",
    "{% endif %}\n",
    "{% if cookiecutter.use_gnu_parallel == 'y' %}\n",
    "!cat commands_fastqc | parallel -j 4\n",
    "{% else %}\n",
    "!sh commands_fastqc    \n",
    "{% endif %}\n",
    "check_errors_from_logs(result_dir, log_suffix)\n"
   ]
  }
 ],
 "metadata": {
  "kernelspec": {
   "display_name": "Python 3",
   "language": "python",
   "name": "python3"
  },
  "language_info": {
   "codemirror_mode": {
    "name": "ipython",
    "version": 3
   },
   "file_extension": ".py",
   "mimetype": "text/x-python",
   "name": "python",
   "nbconvert_exporter": "python",
   "pygments_lexer": "ipython3",
   "version": "3.7.3"
  },
  "pycharm": {
   "stem_cell": {
    "cell_type": "raw",
    "source": [],
    "metadata": {
     "collapsed": false
    }
   }
  }
 },
 "nbformat": 4,
 "nbformat_minor": 2
}