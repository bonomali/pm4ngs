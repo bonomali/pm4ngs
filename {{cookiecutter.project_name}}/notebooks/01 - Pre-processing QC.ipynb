{
 "cells": [
  {
   "cell_type": "code",
   "execution_count": null,
   "metadata": {},
   "outputs": [],
   "source": [
    "%run ../config/init.py"
   ]
  },
  {
   "cell_type": "markdown",
   "metadata": {},
   "source": [
    "## Setting workdir to `data/{{ cookiecutter.dataset_name }}`"
   ]
  },
  {
   "cell_type": "code",
   "execution_count": null,
   "metadata": {},
   "outputs": [],
   "source": [
    "data_dir = os.path.join(DATA, DATASET)\n",
    "if not os.path.exists(data_dir):\n",
    "    os.mkdir(data_dir)\n",
    "os.chdir(data_dir)"
   ]
  },
  {
   "cell_type": "markdown",
   "metadata": {},
   "source": [
    "{% if cookiecutter.is_data_in_SRA == 'y' %}\n",
    "## Loading sample file SRA Run table\n",
    "This example table is for BioProject:\n",
    "{% if cookiecutter.sequencing_technology == 'paired-end' %}\n",
    "PRJNA508970\n",
    "{% else %}\n",
    "PRJNA339968\n",
    "{% endif %}\n",
    "Save the **SRARunTable.txt** from the NCBI Run Selector and place it on:  \n",
    "`data/{{ cookiecutter.dataset_name }}`"
   ]
  },
  {
   "cell_type": "code",
   "execution_count": null,
   "metadata": {},
   "outputs": [],
   "source": [
    "sraruntable_file = os.path.join(DATA, DATASET, 'SraRunTable.txt')\n",
    "sra_df = pandas.read_csv(sraruntable_file, sep='\\t')\n",
    "sra_df.head()"
   ]
  },
  {
   "cell_type": "markdown",
   "metadata": {},
   "source": [
    "### Filtering SRA Run table and creates the \"factors.txt\" file\n",
    "\n",
    "The \"factors.txt\" file should have the columns:  \n",
    "`| id | SampleID | condition | replicate |`  \n",
    "Columns:\n",
    "\n",
    "This example table is for BioProject:\n",
    "{% if cookiecutter.sequencing_technology == 'paired-end' %}\n",
    " * id: A sample name (GSM3505829)\n",
    " * SampleID: SRA run id (SRR8308716)\n",
    " * condition: Samples conditions to analyze (Wild-type). No less than two conditions in all samples.\n",
    " * replicate: Replicate number (1)\n",
    "\n",
    "Example:\n",
    "\n",
    "| id | SampleID | condition | replicate |\n",
    "| --- | --- | --- | --- |\n",
    "| GSM3505829 | SRR8308716 | Wild-type | 1 |\n",
    "| GSM3505830 | SRR8308717 | Wild-type | 2 |\n",
    "| GSM3505833 | SRR8308720 | Dp(16Lipi-Zbtb21)1TybEmcf | 1 |\n",
    "| GSM3505834 | SRR8308721 | Dp(16Lipi-Zbtb21)1TybEmcf | 2 |\n",
    "{% else %}\n",
    " * id: A sample name (classical01)\n",
    " * SampleID: SRA run id (SRR4053795)\n",
    " * condition: Samples conditions to analyze (classical). No less than two conditions in all samples.\n",
    " * replicate: Replicate number (1)\n",
    "\n",
    "Example:\n",
    "\n",
    "| id | SampleID | condition | replicate |\n",
    "| --- | --- | --- | --- |\n",
    "| classical01 | SRR4053795 | classical | 1 |\n",
    "| classical02 | SRR4053796 | classical | 1 |\n",
    "| nonclassical01 | SRR4053802 | nonclassical | 1 |\n",
    "| nonclassical02 | SRR4053803 | nonclassical | 1 |\n",
    "{% endif %}\n",
    "\n",
    "Modify this cell to extract from the **SRARunTable.txt** the columns for your project."
   ]
  },
  {
   "cell_type": "code",
   "execution_count": null,
   "metadata": {},
   "outputs": [],
   "source": [
    "{% if cookiecutter.sequencing_technology == 'paired-end' %}\n",
    "factors = sra_df[['Sample_Name', 'Run', 'treatment']]\n",
    "factors = factors.rename(index=str, columns={'Run': 'SampleID', 'Sample_Name':'id', 'treatment': 'condition'})\n",
    "factors['condition'] = factors['condition'].str.replace('[^a-zA-Z]', '')\n",
    "factors['replicate'] = 1\n",
    "{% else %}\n",
    "factors = sra_df[['Sample_Name', 'Run']]\n",
    "factors = factors.rename(index=str, columns={'Run': 'SampleID', 'Sample_Name':'id'})\n",
    "factors['condition'] = factors['id'].str[:-2]\n",
    "factors['condition'] = factors['condition'].str.replace('[^a-zA-Z]', '')\n",
    "factors['replicate'] = 1 \n",
    "{% endif %}\n",
    "factors_file = os.path.join(DATA, DATASET, 'factors.txt')\n",
    "factors.to_csv(factors_file, index=None, sep='\\t')\n",
    "factors"
   ]
  },
  {
   "cell_type": "markdown",
   "metadata": {},
   "source": [
    "## Retriving data from the BioProject ID using fastq-dump"
   ]
  },
  {
   "cell_type": "code",
   "execution_count": null,
   "metadata": {
    "pycharm": {
     "name": "#%%\n"
    },
    "scrolled": false
   },
   "outputs": [],
   "source": [
    "log_suffix = 'download.log'\n",
    "{% if cookiecutter.sequencing_technology == 'paired-end' %}\n",
    "cmd_header = '{0} {1}/sra/download_quality_control.cwl --threads {2} --split-files'.format(\n",
    "        CWLRUNNER, CWLWORKFLOWS, 4)\n",
    "\n",
    "{% if cookiecutter.create_demo == 'y' %}\n",
    "cmd_header = '{0} -X {{ cookiecutter.number_spots}} '.format(cmd_header)\n",
    "{% endif %}\n",
    "\n",
    "with open('commands', \"w\") as fin:\n",
    "    for i,r in factors.iterrows():\n",
    "        if not os.path.exists(r['SampleID'] + '_1.fastq.gz') or not os.path.exists(r['SampleID'] + '_2.fastq.gz'):\n",
    "            fin.write('{0} --accession {1} > {1}_{2} 2>&1\\n'.format(cmd_header, r['SampleID'], log_suffix))\n",
    "{% else %}\n",
    "cmd_header = '{0} {1}/sra/download_quality_control.cwl --threads {2}'.format(\n",
    "        CWLRUNNER, CWLWORKFLOWS, 4)\n",
    "\n",
    "{% if cookiecutter.create_demo == 'y' %}\n",
    "cmd_header = '{0} -X {{ cookiecutter.number_spots}} '.format(cmd_header)\n",
    "{% endif %}\n",
    "\n",
    "with open('commands', \"w\") as fin:\n",
    "    for i,r in factors.iterrows():\n",
    "        if not os.path.exists(r['SampleID'] + '.fastq.gz'):\n",
    "            fin.write('{0} --accession {1} > {1}_{2} 2>&1\\n'.format(cmd_header, r['SampleID'], log_suffix))\n",
    "{% endif %}\n",
    "{% if cookiecutter.use_gnu_parallel == 'y' %}\n",
    "!cat commands | parallel -j 4\n",
    "{% else %}\n",
    "!sh commands    \n",
    "{% endif %}\n",
    "check_errors_from_logs(data_dir, log_suffix)\n",
    "{% else %}"
   ]
  },
  {
   "cell_type": "markdown",
   "metadata": {},
   "source": [
    "## Loading data from \"factors.txt\" file\n",
    "First copy your data to:  `data/{{ cookiecutter.dataset_name }}` \n",
    "\n",
    "Then, create a \"factors.txt\" file. \n",
    "\n",
    "The \"factors.txt\" file should have the columns:  \n",
    "`| id | SampleID | condition | replicate |`  \n",
    "Columns:\n",
    "\n",
    "{% if cookiecutter.sequencing_technology == 'paired-end' %}\n",
    "For example:\n",
    " * id: A sample name (classical01)\n",
    " * SampleID: Sampla id (classical01_L000_R1). The files in `data/{{ cookiecutter.dataset_name }}` should be named: classical01_L000_R1_1.fastq.gz nd classical01_L000_R1_2.fastq.gz\n",
    " * condition: Samples conditions to analyze (classical). No less than two conditions in all samples.\n",
    " * replicate: Replicate number (1)\n",
    "\n",
    "Example:\n",
    "\n",
    "| id | SampleID | condition | replicate |\n",
    "| --- | --- | --- | --- |\n",
    "| classical01 | classical01_L000_R1 | classical | 1 |\n",
    "| classical02 | classical01_L000_R2 | classical | 1 |\n",
    "| nonclassical01 | nonclassical01_L000_R1 | nonclassical | 1 |\n",
    "| nonclassical02 | nonclassical01_L000_R1 | nonclassical | 2 |\n",
    "{% else %}\n",
    "For example:\n",
    " * id: A sample name (classical01)\n",
    " * SampleID: Sampla id (classical01_L000_R1). The file in `data/{{ cookiecutter.dataset_name }}` should be named: classical01_L000_R1.fastq.gz\n",
    " * condition: Samples conditions to analyze (classical). No less than two conditions in all samples.\n",
    " * replicate: Replicate number (1)\n",
    "\n",
    "Example:\n",
    "\n",
    "| id | SampleID | condition | replicate |\n",
    "| --- | --- | --- | --- |\n",
    "| classical01 | classical01_L000_R1 | classical | 1 |\n",
    "| classical01 | classical01_L000_R2 | classical | 1 |\n",
    "| nonclassical01 | nonclassical01_L000_R1 | nonclassical | 1 |\n",
    "| nonclassical01 | nonclassical01_L000_R2 | nonclassical | 2 |\n",
    "{% endif %}"
   ]
  },
  {
   "cell_type": "code",
   "execution_count": null,
   "metadata": {
    "pycharm": {
     "name": "#%%\n"
    }
   },
   "outputs": [],
   "source": [
    "factors_file = os.path.join(DATA, DATASET, 'factors.txt')\n",
    "factors = pandas.read_csv(factors_file, sep='\\t')\n",
    "factors.head()"
   ]
  },
  {
   "cell_type": "markdown",
   "metadata": {
    "pycharm": {
     "name": "#%% md\n"
    }
   },
   "source": [
    "## Pre-processing data"
   ]
  },
  {
   "cell_type": "code",
   "execution_count": null,
   "metadata": {
    "pycharm": {
     "is_executing": false,
     "name": "#%%\n"
    }
   },
   "outputs": [],
   "source": [
    "log_suffix = 'fastqc.log'\n",
    "{% if cookiecutter.sequencing_technology == 'paired-end' %}\n",
    "cmd_header = '{0} {1}/fastqc/fastqc.cwl --threads {2} '.format(\n",
    "        CWLRUNNER, CWLTOOLS, 4)\n",
    "with open('commands', \"w\") as fin:\n",
    "    for i,r in factors.iterrows():\n",
    "        if not os.path.exists(r['SampleID'] + '_1_fastqc.html') or not os.path.exists(r['SampleID'] + '_1_fastqc.zip') or\\\n",
    "            not os.path.exists(r['SampleID'] + '_2_fastqc.html') or not os.path.exists(r['SampleID'] + '_2_fastqc.zip'):\n",
    "            fin.write('{0} --fastq {1}_1.fastq.gz --fastq {1}_2.fastq.gz > {1}_{2} 2>&1\\n'.format(cmd_header, r['SampleID'], log_suffix))\n",
    "{% else %}\n",
    "cmd_header = '{0} {1}/fastqc/fastqc.cwl --threads {2} --fastq '.format(\n",
    "        CWLRUNNER, CWLTOOLS, 4)\n",
    "with open('commands', \"w\") as fin:\n",
    "    for i,r in factors.iterrows():\n",
    "        if not os.path.exists(r['SampleID'] + '_fastqc.html') or not os.path.exists(r['SampleID'] + '_fastqc.zip'):\n",
    "            fin.write('{0} {1}.fastq.gz > {1}_{2} 2>&1\\n'.format(cmd_header, r['SampleID'], log_suffix))\n",
    "{% endif %}\n",
    "{% if cookiecutter.use_gnu_parallel == 'y' %}\n",
    "!cat commands | parallel -j 4\n",
    "{% else %}\n",
    "!sh commands    \n",
    "{% endif %}\n",
    "check_errors_from_logs(data_dir, log_suffix)\n",
    "{% endif %}\n"
   ]
  }
 ],
 "metadata": {
  "kernelspec": {
   "display_name": "Python 3",
   "language": "python",
   "name": "python3"
  },
  "language_info": {
   "codemirror_mode": {
    "name": "ipython",
    "version": 3
   },
   "file_extension": ".py",
   "mimetype": "text/x-python",
   "name": "python",
   "nbconvert_exporter": "python",
   "pygments_lexer": "ipython3",
   "version": "3.7.3"
  },
  "pycharm": {
   "stem_cell": {
    "cell_type": "raw",
    "source": [],
    "metadata": {
     "collapsed": false
    }
   }
  }
 },
 "nbformat": 4,
 "nbformat_minor": 2
}